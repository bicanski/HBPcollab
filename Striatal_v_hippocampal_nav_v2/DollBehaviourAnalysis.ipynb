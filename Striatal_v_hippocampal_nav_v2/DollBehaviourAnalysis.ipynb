{
 "cells": [
  {
   "cell_type": "code",
   "execution_count": null,
   "metadata": {},
   "outputs": [],
   "source": [
    "import numpy as np\n",
    "import pandas as pd\n",
    "import matplotlib.pyplot as plt\n",
    "%matplotlib notebook"
   ]
  },
  {
   "cell_type": "code",
   "execution_count": null,
   "metadata": {},
   "outputs": [],
   "source": [
    "import os\n",
    "\n",
    "data_folder = 'Data/DeterministicTask'\n",
    "fig_folder = 'figures/'\n",
    "\n",
    "mb = 'BehaviourDriftingRewardsProperMB.csv'\n",
    "mf = 'BehaviourDriftingRewardsStriatum23July.csv'\n",
    "full = 'BehaviourDriftingRewardsFull23July.csv'\n",
    "\n"
   ]
  },
  {
   "cell_type": "code",
   "execution_count": null,
   "metadata": {},
   "outputs": [],
   "source": [
    "# Load data\n",
    "data_striatum = pd.DataFrame.from_csv(os.path.join(data_folder,mf))\n",
    "data_hipp = pd.DataFrame.from_csv(os.path.join(data_folder,mb))\n",
    "data_full = pd.DataFrame.from_csv(os.path.join(data_folder,full))"
   ]
  },
  {
   "cell_type": "code",
   "execution_count": null,
   "metadata": {},
   "outputs": [],
   "source": [
    "data_striatum.head()"
   ]
  },
  {
   "cell_type": "code",
   "execution_count": null,
   "metadata": {},
   "outputs": [],
   "source": [
    "def add_relevant_columns(dataframe):\n",
    "    dataframe['PreviousAction'] = dataframe.groupby(['Agent_nr'])['Action1'].shift(1)\n",
    "    dataframe['PreviousStart'] = dataframe.groupby(['Agent_nr'])['StartState'].shift(1)\n",
    "    dataframe['PreviousReward'] = dataframe.groupby(['Agent_nr'])['Reward'].shift(1)\n",
    "    dataframe['Stay'] = (dataframe.PreviousAction == dataframe.Action1)\n",
    "    dataframe['SameStart'] = (dataframe.StartState == dataframe.PreviousStart)"
   ]
  },
  {
   "cell_type": "code",
   "execution_count": null,
   "metadata": {},
   "outputs": [],
   "source": [
    "add_relevant_columns(data_striatum)\n",
    "add_relevant_columns(data_hipp)\n",
    "add_relevant_columns(data_full)"
   ]
  },
  {
   "cell_type": "code",
   "execution_count": null,
   "metadata": {},
   "outputs": [],
   "source": [
    "data_striatum[data_striatum['Agent_nr']==1].head()"
   ]
  },
  {
   "cell_type": "code",
   "execution_count": null,
   "metadata": {},
   "outputs": [],
   "source": [
    "def compute_mean_stay_prob(data):\n",
    "    means = data[data['Trial']>0].groupby(['PreviousReward', 'SameStart'])['Stay'].mean()\n",
    "    sems = data.groupby(['PreviousReward', 'SameStart'])['Stay'].sem()\n",
    "    return means[::-1], sems[::-1]"
   ]
  },
  {
   "cell_type": "code",
   "execution_count": null,
   "metadata": {},
   "outputs": [],
   "source": [
    "mean_mf, sem_mf = compute_mean_stay_prob(data_striatum)\n",
    "mean_mb, sem_mb = compute_mean_stay_prob(data_hipp)\n",
    "mean_full, sem_full = compute_mean_stay_prob(data_full)"
   ]
  },
  {
   "cell_type": "code",
   "execution_count": null,
   "metadata": {},
   "outputs": [],
   "source": [
    "mean_mf = list(mean_mf)\n",
    "mean_mb = list(mean_mb)\n",
    "mean_full = list(mean_full)"
   ]
  },
  {
   "cell_type": "code",
   "execution_count": null,
   "metadata": {},
   "outputs": [],
   "source": [
    "sem_mf = list(sem_mf)\n",
    "sem_mb = list(sem_mb)\n",
    "sem_full = list(sem_full)"
   ]
  },
  {
   "cell_type": "markdown",
   "metadata": {},
   "source": [
    "## Plotting"
   ]
  },
  {
   "cell_type": "code",
   "execution_count": null,
   "metadata": {},
   "outputs": [],
   "source": [
    "def plot_doll_style(ax, data, yerr, title=''):\n",
    "    lightgray = '#d1d1d1'\n",
    "    darkgray = '#929292'\n",
    "\n",
    "    bar_width= 0.2\n",
    "\n",
    "    bars1 = data[:2]\n",
    "    bars2 = data[2:]\n",
    "    errs1 = yerr[:2]\n",
    "    errs2 = yerr[2:]\n",
    "\n",
    "    # The x position of bars\n",
    "    r1 = np.arange(len(bars1))*.8 + 1.5* bar_width\n",
    "    r2 = [x + bar_width for x in r1]\n",
    "    \n",
    "    plt.sca(ax)\n",
    "    \n",
    "    plt.bar(r1, bars1, width=bar_width, color=lightgray, yerr=errs1, capsize=4)\n",
    "    plt.bar(r2, bars2, width=bar_width, color=darkgray, yerr=errs2, capsize=4)\n",
    "    plt.ylabel('Stay probability', fontsize=15)\n",
    "    plt.xticks([r+ bar_width/2 for r in r1], ['same', 'different'], fontsize=15)\n",
    "    plt.yticks(fontsize=15)\n",
    "    plt.title(title, fontsize=18)\n",
    "    plt.ylim([0.47, .96])\n",
    "    plt.xlim([0, 1.6])\n",
    "\n",
    "    ax.spines['right'].set_visible(False)\n",
    "    ax.spines['top'].set_visible(False)\n",
    "\n",
    "### Plot the model based learner \n",
    "fig, axes = plt.subplots(1,3, figsize= (9,5))\n",
    "\n",
    "\n",
    "plot_doll_style(axes[0], mean_mb, sem_mb, title='Hippocampus')\n",
    "plot_doll_style(axes[1], mean_mf, sem_mf, title='Striatum')\n",
    "plot_doll_style(axes[2], mean_full, sem_full, title='Combined')\n",
    "\n",
    "\n",
    "\n",
    "leg = axes[1].legend(['Reward', 'No reward'], fontsize=12, frameon=False, handlelength=.7)\n",
    "leg.set_title('Previous outcome', prop = {'size':12})\n",
    "\n",
    "plt.tight_layout()\n",
    "plt.savefig(os.path.join(fig_folder, 'DeterministicTaskResults.svg'))\n",
    "plt.show()"
   ]
  },
  {
   "cell_type": "code",
   "execution_count": null,
   "metadata": {},
   "outputs": [],
   "source": [
    "list(means)"
   ]
  },
  {
   "cell_type": "code",
   "execution_count": null,
   "metadata": {},
   "outputs": [],
   "source": [
    "data.groupby(['SameStart','PreviousReward']).mean()"
   ]
  },
  {
   "cell_type": "code",
   "execution_count": null,
   "metadata": {},
   "outputs": [],
   "source": [
    ".25+.125"
   ]
  },
  {
   "cell_type": "code",
   "execution_count": null,
   "metadata": {},
   "outputs": [],
   "source": []
  },
  {
   "cell_type": "code",
   "execution_count": null,
   "metadata": {},
   "outputs": [],
   "source": []
  }
 ],
 "metadata": {
  "kernelspec": {
   "display_name": "Python 3",
   "language": "python",
   "name": "python3"
  },
  "language_info": {
   "codemirror_mode": {
    "name": "ipython",
    "version": 3
   },
   "file_extension": ".py",
   "mimetype": "text/x-python",
   "name": "python",
   "nbconvert_exporter": "python",
   "pygments_lexer": "ipython3"
  }
 },
 "nbformat": 4,
 "nbformat_minor": 2
}
