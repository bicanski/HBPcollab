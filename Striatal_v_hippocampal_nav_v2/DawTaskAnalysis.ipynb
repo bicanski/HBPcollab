{
 "cells": [
  {
   "cell_type": "code",
   "execution_count": null,
   "metadata": {},
   "outputs": [],
   "source": [
    "import numpy as np\n",
    "import pandas as pd\n",
    "import matplotlib.pyplot as plt\n",
    "import os\n",
    "%matplotlib notebook"
   ]
  },
  {
   "cell_type": "code",
   "execution_count": null,
   "metadata": {},
   "outputs": [],
   "source": [
    "path = 'Data/StochasticTask/'\n",
    "full = 'BehaviourDriftingRewardsFull.csv'\n",
    "striat = 'BehaviourDriftingRewardsStriatum.csv'\n",
    "hipp = 'BehaviourDriftingRewardsHippocampus.csv'\n",
    "data_full = pd.DataFrame.from_csv(os.path.join(path, full))\n",
    "data_hipp = pd.DataFrame.from_csv(os.path.join(path, hipp))\n",
    "data_striat = pd.DataFrame.from_csv(os.path.join(path, striat))"
   ]
  },
  {
   "cell_type": "code",
   "execution_count": null,
   "metadata": {},
   "outputs": [],
   "source": [
    "data_hipp.head()"
   ]
  },
  {
   "cell_type": "code",
   "execution_count": null,
   "metadata": {},
   "outputs": [],
   "source": [
    "terminal_states = [3,4,5,6]\n",
    "def is_common_or_rare(action, out):\n",
    "    left_outcomes = (3, 4)\n",
    "    right_outcomes = (5, 6)\n",
    "    if action == 'left' and out in left_outcomes:\n",
    "        return 'common'\n",
    "    elif action == 'left' and out in right_outcomes:\n",
    "        return 'rare'\n",
    "    elif action == 'right' and out in left_outcomes:\n",
    "        return 'rare'\n",
    "    elif action == 'right' and out in right_outcomes:\n",
    "        return 'common'\n",
    "    else:\n",
    "        raise ValueError('The combination of action and outcome does not make sense')"
   ]
  },
  {
   "cell_type": "code",
   "execution_count": null,
   "metadata": {},
   "outputs": [],
   "source": [
    "def add_relevant_columns(dataframe):\n",
    "    dataframe['PreviousAction'] = dataframe.groupby(['Agent_nr'])['Action1'].shift(1)\n",
    "    dataframe['PreviousStart'] = dataframe.groupby(['Agent_nr'])['StartState'].shift(1)\n",
    "    dataframe['PreviousReward'] = dataframe.groupby(['Agent_nr'])['Reward'].shift(1)\n",
    "    dataframe['Stay'] = (dataframe.PreviousAction == dataframe.Action1)\n",
    "    dataframe['Transition'] = np.vectorize(is_common_or_rare)(dataframe['Action1'], dataframe['Terminus'])\n",
    "    dataframe['PreviousTransition'] = dataframe.groupby(['Agent_nr'])['Transition'].shift(1)"
   ]
  },
  {
   "cell_type": "code",
   "execution_count": null,
   "metadata": {},
   "outputs": [],
   "source": [
    "add_relevant_columns(data_full)\n",
    "add_relevant_columns(data_striat)\n",
    "add_relevant_columns(data_hipp)"
   ]
  },
  {
   "cell_type": "code",
   "execution_count": null,
   "metadata": {},
   "outputs": [],
   "source": [
    "data_striat[data_striat['Agent_nr']==0].head()"
   ]
  },
  {
   "cell_type": "code",
   "execution_count": null,
   "metadata": {},
   "outputs": [],
   "source": [
    "def compute_mean_stay_prob(data):\n",
    "    means = data[data['Trial']>0].groupby(['PreviousTransition', 'PreviousReward'])['Stay'].mean()\n",
    "    sems = data.groupby(['PreviousTransition', 'PreviousReward'])['Stay'].sem()\n",
    "    return means, sems"
   ]
  },
  {
   "cell_type": "code",
   "execution_count": null,
   "metadata": {},
   "outputs": [],
   "source": [
    "mean_striat, sem_striat = compute_mean_stay_prob(data_striat)\n",
    "mean_hipp, sem_hipp = compute_mean_stay_prob(data_hipp)\n",
    "mean_full, sem_full = compute_mean_stay_prob(data_full)"
   ]
  },
  {
   "cell_type": "code",
   "execution_count": null,
   "metadata": {},
   "outputs": [],
   "source": [
    "mean_hipp"
   ]
  },
  {
   "cell_type": "code",
   "execution_count": null,
   "metadata": {},
   "outputs": [],
   "source": [
    "mean_mf = list(mean_striat)\n",
    "sem_mf = list(sem_striat)\n",
    "mean_mb = list(mean_hipp)\n",
    "sem_mb = list(sem_hipp)\n",
    "\n",
    "mean_combined = list(mean_full)\n",
    "sem_combined = list(sem_full)\n",
    "\n"
   ]
  },
  {
   "cell_type": "code",
   "execution_count": null,
   "metadata": {},
   "outputs": [],
   "source": [
    "def plot_daw_style(ax, data, yerr, title=''):\n",
    "    lightgray = '#d1d1d1'\n",
    "    darkgray = '#929292'\n",
    "\n",
    "    bar_width= 0.2\n",
    "\n",
    "    bars1 = data[:2][::-1]\n",
    "    bars2 = data[2:][::-1]\n",
    "    errs1 = yerr[:2][::-1]\n",
    "    errs2 = yerr[2:][::-1]\n",
    "\n",
    "    # The x position of bars\n",
    "    r1 = np.array([0.125, 0.625]) \n",
    "    r2 = [x + bar_width + .05 for x in r1]\n",
    "    \n",
    "    plt.sca(ax)\n",
    "    \n",
    "    plt.bar(r1, bars1, width=bar_width, color='blue', yerr=errs1, capsize=4)\n",
    "    plt.bar(r2, bars2, width=bar_width, color='red', yerr=errs2, capsize=4)\n",
    "    plt.xticks([r+ bar_width/2 +.025 for r in r1], ['Rewarded', 'Unrewarded'], fontsize=12)\n",
    "    plt.yticks(fontsize=12)\n",
    "    plt.title(title, fontsize=16)\n",
    "    plt.ylim([.5, 1])\n",
    "    plt.xlim([0, 1])\n"
   ]
  },
  {
   "cell_type": "code",
   "execution_count": null,
   "metadata": {},
   "outputs": [],
   "source": [
    "fig, axes = plt.subplots(1,3, figsize= (10,2.5), sharey=True)\n",
    "\n",
    "plot_daw_style(axes[0], mean_mf, sem_mf, title='Striatum')\n",
    "plot_daw_style(axes[1], mean_mb, sem_mb, title='Hippocampus')\n",
    "plot_daw_style(axes[2], mean_combined, sem_combined, title='Full model')\n",
    "\n",
    "\n",
    "\n",
    "leg = axes[0].legend(['Common', 'Rare'], fontsize=12, frameon=False, handlelength=0.7)\n",
    "plt.sca(axes[0])\n",
    "plt.ylabel('Stay probability', fontsize=12)\n",
    "\n",
    "\n",
    "plt.show()"
   ]
  },
  {
   "cell_type": "code",
   "execution_count": null,
   "metadata": {},
   "outputs": [],
   "source": [
    "data_hipp[data_hipp.Transition=='rare']['Transition'].count() /data_hipp.Transition.count()"
   ]
  },
  {
   "cell_type": "code",
   "execution_count": null,
   "metadata": {},
   "outputs": [],
   "source": [
    "b = data_hipp[data_hipp.PreviousReward==1]\n",
    "b = b[b.Transition=='rare']"
   ]
  },
  {
   "cell_type": "code",
   "execution_count": null,
   "metadata": {},
   "outputs": [],
   "source": [
    "b"
   ]
  },
  {
   "cell_type": "code",
   "execution_count": null,
   "metadata": {},
   "outputs": [],
   "source": []
  },
  {
   "cell_type": "code",
   "execution_count": null,
   "metadata": {},
   "outputs": [],
   "source": [
    "help(manifold.Isomap.fit)"
   ]
  },
  {
   "cell_type": "code",
   "execution_count": null,
   "metadata": {},
   "outputs": [],
   "source": []
  }
 ],
 "metadata": {
  "kernelspec": {
   "display_name": "Python 3",
   "language": "python",
   "name": "python3"
  },
  "language_info": {
   "codemirror_mode": {
    "name": "ipython",
    "version": 3
   },
   "file_extension": ".py",
   "mimetype": "text/x-python",
   "name": "python",
   "nbconvert_exporter": "python",
   "pygments_lexer": "ipython3"
  }
 },
 "nbformat": 4,
 "nbformat_minor": 2
}
