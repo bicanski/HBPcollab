{
 "cells": [
  {
   "cell_type": "code",
   "execution_count": null,
   "metadata": {},
   "outputs": [],
   "source": [
    "import numpy as np\n",
    "from utils import get_relative_angle\n",
    "import matplotlib.pyplot as plt\n",
    "from combined_agent import Agent\n",
    "from plotting import show_landmark_and_platform"
   ]
  },
  {
   "cell_type": "code",
   "execution_count": null,
   "metadata": {},
   "outputs": [],
   "source": [
    "ag = Agent()"
   ]
  },
  {
   "cell_type": "code",
   "execution_count": null,
   "metadata": {},
   "outputs": [],
   "source": [
    "ag.env.landmark_1_centre "
   ]
  },
  {
   "cell_type": "code",
   "execution_count": null,
   "metadata": {},
   "outputs": [],
   "source": [
    "ag.env.platform_centre"
   ]
  },
  {
   "cell_type": "code",
   "execution_count": null,
   "metadata": {},
   "outputs": [],
   "source": [
    "t, r, locs = ag.train_one_episode()"
   ]
  },
  {
   "cell_type": "code",
   "execution_count": null,
   "metadata": {},
   "outputs": [],
   "source": [
    "locs = np.array(locs)\n",
    "fig, ax = plt.subplots()\n",
    "plt.plot(locs[:,0], locs[:,1])\n",
    "show_landmark_and_platform(ax, ag.env)\n",
    "plt.xlim([ag.env.minx, ag.env.maxx])\n",
    "plt.ylim([ag.env.miny, ag.env.maxy])\n",
    "plt.show()"
   ]
  },
  {
   "cell_type": "code",
   "execution_count": null,
   "metadata": {},
   "outputs": [],
   "source": [
    "plt.imshow(ag.striatum.weight_mat)\n",
    "plt.colorbar()\n",
    "plt.show()"
   ]
  },
  {
   "cell_type": "code",
   "execution_count": null,
   "metadata": {},
   "outputs": [],
   "source": [
    "t, r, locs2 = ag.train_one_episode()"
   ]
  },
  {
   "cell_type": "code",
   "execution_count": null,
   "metadata": {},
   "outputs": [],
   "source": [
    "locs2 = np.array(locs2)\n",
    "fig, ax = plt.subplots()\n",
    "plt.plot(locs2[:,0], locs2[:,1])\n",
    "show_landmark_and_platform(ax, ag.env)\n",
    "plt.xlim([ag.env.minx, ag.env.maxx])\n",
    "plt.ylim([ag.env.miny, ag.env.maxy])\n",
    "\n",
    "# draw maze boundary:\n",
    "angles = np.linspace(0, 2 * np.pi, 100)\n",
    "x_marks = np.cos(angles) * ag.env.maze_radius + ag.env.maze_centre[0]\n",
    "y_marks = np.sin(angles) * ag.env.maze_radius + ag.env.maze_centre[1]\n",
    "ax.plot(x_marks, y_marks,color='k')\n",
    "plt.show()"
   ]
  },
  {
   "cell_type": "code",
   "execution_count": null,
   "metadata": {},
   "outputs": [],
   "source": [
    "plt.imshow(ag.striatum.weight_mat)\n",
    "plt.colorbar()\n",
    "plt.show()"
   ]
  },
  {
   "cell_type": "code",
   "execution_count": null,
   "metadata": {},
   "outputs": [],
   "source": [
    "# Check whether landmark cell system works\n",
    "%matplotlib notebook\n",
    "from ipywidgets import *"
   ]
  },
  {
   "cell_type": "code",
   "execution_count": null,
   "metadata": {},
   "outputs": [],
   "source": [
    "def compute_activity(x, y, orientation):\n",
    "    ag.env.curr_x = x \n",
    "    ag.env.curr_y = y\n",
    "    ag.env.curr_orientation = orientation\n",
    "    activity = ag.striatum.compute_LC_activity()\n",
    "    return activity"
   ]
  },
  {
   "cell_type": "code",
   "execution_count": null,
   "metadata": {},
   "outputs": [],
   "source": [
    "def update(x=1., y=1., orientation=180):\n",
    "    line.set_ydata(compute_activity(x,y,orientation))\n",
    "    fig.canvas.draw()\n",
    "    angle = np.degrees(np.arctan( (ag.env.landmark_1_centre[1] - ag.env.curr_y ) / (ag.env.landmark_1_centre[0] - ag.env.curr_x )))- ag.env.curr_orientation\n",
    "    print('distance:')\n",
    "    print(np.linalg.norm(ag.env.platform_centre - [ag.env.curr_x, ag.env.curr_y]))\n",
    "    print('Angle wrt landmark:')\n",
    "    print(angle)\n",
    "    print('Angle to landmark from method')\n",
    "    print(ag.striatum.angle_to_landmark())"
   ]
  },
  {
   "cell_type": "code",
   "execution_count": null,
   "metadata": {},
   "outputs": [],
   "source": [
    "fig, ax = plt.subplots()\n",
    "line, = ax.plot(ag.striatum.landmark_centres, compute_activity(1,1,0))\n",
    "interact(update)"
   ]
  },
  {
   "cell_type": "code",
   "execution_count": null,
   "metadata": {},
   "outputs": [],
   "source": []
  },
  {
   "cell_type": "code",
   "execution_count": null,
   "metadata": {},
   "outputs": [],
   "source": [
    "from sensory_system.visual_system import to_agent_reference_frame"
   ]
  },
  {
   "cell_type": "code",
   "execution_count": null,
   "metadata": {},
   "outputs": [],
   "source": [
    "np.degrees(np.arctan( 1.2/ 1.5))"
   ]
  },
  {
   "cell_type": "code",
   "execution_count": null,
   "metadata": {},
   "outputs": [],
   "source": [
    "def angle_wrt_cue(agent_pos, agent_orientation, cue_pos):\n",
    "    tan = (cue_pos[1] - agent_pos[1]) / (cue_pos[0] - agent_pos[0])\n",
    "    angle = np.degrees(np.arctan(tan))\n",
    "    return angle - agent_orientation"
   ]
  },
  {
   "cell_type": "code",
   "execution_count": null,
   "metadata": {},
   "outputs": [],
   "source": [
    "angle_wrt_cue([2,2], 180, [1,1])"
   ]
  },
  {
   "cell_type": "code",
   "execution_count": null,
   "metadata": {},
   "outputs": [],
   "source": [
    "cue_pos = [1,1]\n",
    "agent_pos = [2,2]\n",
    "agent_orientation=180\n",
    "tan = (cue_pos[1] - agent_pos[1]) / (cue_pos[0] - agent_pos[0])"
   ]
  },
  {
   "cell_type": "code",
   "execution_count": null,
   "metadata": {},
   "outputs": [],
   "source": [
    "np.degrees(np.arctan(tan))-180"
   ]
  },
  {
   "cell_type": "code",
   "execution_count": null,
   "metadata": {},
   "outputs": [],
   "source": [
    "from sensory_system.visual_system import to_agent_reference_frame"
   ]
  },
  {
   "cell_type": "code",
   "execution_count": null,
   "metadata": {},
   "outputs": [],
   "source": [
    "\n",
    "relative_pos = to_agent_reference_frame(ag.env.landmark_1_centre,\n",
    "                         [0,0], np.radians(0))\n",
    "tan = relative_pos[1] / relative_pos[0]\n",
    "angle = np.degrees(np.arctan(tan))"
   ]
  },
  {
   "cell_type": "code",
   "execution_count": null,
   "metadata": {},
   "outputs": [],
   "source": [
    "\n",
    "def angle_to_landmark(x=1., y=1., orientation=180):\n",
    "    \"\"\"Get the relative direction to the landmark from the viewpoint of the\n",
    "\n",
    "    :return:\n",
    "    \"\"\"\n",
    "    relative_cue_pos = to_agent_reference_frame(ag.env.landmark_1_centre,\n",
    "                                                   [x, y],\n",
    "                                                   np.radians(orientation))\n",
    "    \n",
    "    angle = np.arctan2(relative_cue_pos[1], relative_cue_pos[0])\n",
    "    \n",
    "    return relative_cue_pos, np.degrees(angle)"
   ]
  },
  {
   "cell_type": "code",
   "execution_count": null,
   "metadata": {},
   "outputs": [],
   "source": [
    "interact(angle_to_landmark)"
   ]
  },
  {
   "cell_type": "code",
   "execution_count": null,
   "metadata": {},
   "outputs": [],
   "source": []
  },
  {
   "cell_type": "code",
   "execution_count": null,
   "metadata": {},
   "outputs": [],
   "source": [
    "def update2(landmark_direction=90):\n",
    "    angular_distances = get_relative_angle(landmark_direction, np.arange(-135, 135, 15)) \n",
    "    return angular_distances\n"
   ]
  },
  {
   "cell_type": "code",
   "execution_count": null,
   "metadata": {},
   "outputs": [],
   "source": [
    "interact(update2)"
   ]
  },
  {
   "cell_type": "code",
   "execution_count": null,
   "metadata": {},
   "outputs": [],
   "source": []
  }
 ],
 "metadata": {
  "kernelspec": {
   "display_name": "Python 3",
   "language": "python",
   "name": "python3"
  },
  "language_info": {
   "codemirror_mode": {
    "name": "ipython",
    "version": 3
   },
   "file_extension": ".py",
   "mimetype": "text/x-python",
   "name": "python",
   "nbconvert_exporter": "python",
   "pygments_lexer": "ipython3"
  }
 },
 "nbformat": 4,
 "nbformat_minor": 2
}
