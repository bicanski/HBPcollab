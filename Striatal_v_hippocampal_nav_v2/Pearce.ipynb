{
 "cells": [
  {
   "cell_type": "code",
   "execution_count": null,
   "metadata": {},
   "outputs": [],
   "source": [
    "import sys\n",
    "sys.path.append('..')\n",
    "from tqdm import tqdm\n",
    "import numpy as np\n",
    "import matplotlib.pyplot as plt\n",
    "from plotting import tsplot, tsplot_boot,show_landmark_and_platform\n",
    "from tqdm import tqdm_notebook as tqdm\n",
    "import random"
   ]
  },
  {
   "cell_type": "code",
   "execution_count": null,
   "metadata": {},
   "outputs": [],
   "source": [
    "from environments import WaterMazeEnv\n",
    "from combined_agent import Agent\n",
    "\n",
    "import os \n",
    "output_path = 'figures/'"
   ]
  },
  {
   "cell_type": "code",
   "execution_count": null,
   "metadata": {},
   "outputs": [],
   "source": [
    "envi = WaterMazeEnv()"
   ]
  },
  {
   "cell_type": "code",
   "execution_count": null,
   "metadata": {},
   "outputs": [],
   "source": [
    "ag = Agent(env=envi,lesion_hippocampus=True)"
   ]
  },
  {
   "cell_type": "code",
   "execution_count": null,
   "metadata": {},
   "outputs": [],
   "source": [
    "n_simulations = 30\n",
    "n_episodes = 15\n",
    "\n",
    "\n",
    "escape_times = np.zeros((n_simulations, n_episodes))\n",
    "\n",
    "for sim in tqdm(range(n_simulations)):\n",
    "    ag = Agent(env=envi,lesion_hippocampus=False)\n",
    "    for ep in range(n_episodes):\n",
    "        t, reward, locs, choices = ag.train_one_episode()\n",
    "        escape_times[sim, ep] = t"
   ]
  },
  {
   "cell_type": "code",
   "execution_count": null,
   "metadata": {},
   "outputs": [],
   "source": [
    "fig, ax = plt.subplots()\n",
    "tsplot_boot(ax,escape_times)"
   ]
  },
  {
   "cell_type": "code",
   "execution_count": null,
   "metadata": {},
   "outputs": [],
   "source": [
    "plt.show()"
   ]
  },
  {
   "cell_type": "code",
   "execution_count": null,
   "metadata": {},
   "outputs": [],
   "source": [
    "ag.env.landmark_1_centre"
   ]
  },
  {
   "cell_type": "code",
   "execution_count": null,
   "metadata": {},
   "outputs": [],
   "source": [
    "ag.env.platform_centre"
   ]
  },
  {
   "cell_type": "code",
   "execution_count": null,
   "metadata": {},
   "outputs": [],
   "source": []
  },
  {
   "cell_type": "code",
   "execution_count": null,
   "metadata": {},
   "outputs": [],
   "source": []
  },
  {
   "cell_type": "code",
   "execution_count": null,
   "metadata": {},
   "outputs": [],
   "source": []
  },
  {
   "cell_type": "code",
   "execution_count": null,
   "metadata": {},
   "outputs": [],
   "source": []
  },
  {
   "cell_type": "code",
   "execution_count": null,
   "metadata": {},
   "outputs": [],
   "source": []
  },
  {
   "cell_type": "code",
   "execution_count": null,
   "metadata": {},
   "outputs": [],
   "source": [
    "def get_platform_and_landmark_locations(env, number=9):\n",
    "    angles = np.linspace(0, 2*np.pi, number)\n",
    "    r = env.maze_radius / 2\n",
    "    platform_locations = [[r * np.cos(a), r * np.sin(a)] for a in angles]\n",
    "    landmark_locations = [[r * np.cos(a), r * np.sin(a)+.1] for a in angles]\n",
    "    platform_locations = env.maze_centre + platform_locations\n",
    "    landmark_locations = env.maze_centre + landmark_locations\n",
    "    return platform_locations, landmark_locations"
   ]
  },
  {
   "cell_type": "code",
   "execution_count": null,
   "metadata": {},
   "outputs": [],
   "source": [
    "platform_locations, landmark_locations = get_platform_and_landmark_locations(envi)"
   ]
  },
  {
   "cell_type": "code",
   "execution_count": null,
   "metadata": {},
   "outputs": [],
   "source": [
    "fig, ax = plt.subplots()\n",
    "plt.scatter(np.array(platform_locations)[:,0], np.array(platform_locations)[:,1])\n",
    "plt.scatter(np.array(landmark_locations)[:,0], np.array(landmark_locations)[:,1])\n",
    "\n",
    "plt.show()"
   ]
  },
  {
   "cell_type": "code",
   "execution_count": null,
   "metadata": {},
   "outputs": [],
   "source": [
    "platform_locations"
   ]
  },
  {
   "cell_type": "code",
   "execution_count": null,
   "metadata": {},
   "outputs": [],
   "source": [
    "n_sims = 50\n",
    "n_trials = 4\n",
    "n_sessions = 12\n",
    "\n",
    "escape_times = np.zeros((n_sims, n_sessions, n_trials))\n",
    "session_ids = list(range(len(platform_locations)))\n",
    "sessions = [np.random.choice(session_ids) for _ in range(n_sessions)]\n",
    "\n",
    "sessions = [0, 4, 1, 5, 2, 6, 3, 7, 4, 8, 0, 2]\n",
    "\n",
    "first_trials_control=[]\n",
    "\n",
    "sim=0\n",
    "for sim in tqdm(range(n_sims)):\n",
    "    ag = Agent(env=envi)\n",
    "    ag.hippocampus.max_goal_response = 20\n",
    "    ag.striatum.lamb= .65\n",
    "    ag.epsilon=.4\n",
    "    for sess_n, session in enumerate(sessions):\n",
    "        envi.platform_centre = platform_locations[session]\n",
    "        envi.landmark_1_centre = landmark_locations[session]\n",
    "\n",
    "        for trial in range(n_trials):\n",
    "            t, reward, locs, choices = ag.train_one_episode()\n",
    "            if trial == 0:\n",
    "                first_trials_control.append(locs)\n",
    "            escape_times[sim, sess_n, trial] = t\n"
   ]
  },
  {
   "cell_type": "code",
   "execution_count": null,
   "metadata": {},
   "outputs": [],
   "source": [
    "escape_times_lesion = np.zeros((n_sims, n_sessions, n_trials))\n",
    "sim=0\n",
    "\n",
    "first_trials_lesion=[]\n",
    "\n",
    "for sim in tqdm(range(n_sims)):\n",
    "    ag = Agent(env=envi, lesion_hippocampus=True)\n",
    "    ag.striatum.lamb= .76\n",
    "    ag.striatum.learning_rate = .0008\n",
    "    for sess_n, session in enumerate(sessions):\n",
    "        envi.platform_centre = platform_locations[session]\n",
    "        envi.landmark_1_centre = landmark_locations[session]\n",
    "\n",
    "        for trial in range(n_trials):\n",
    "            t, reward, locs, choices = ag.train_one_episode()\n",
    "            if trial == 0:\n",
    "                first_trials_lesion.append(locs)\n",
    "            escape_times_lesion[sim, sess_n, trial] = t\n",
    "    \n"
   ]
  },
  {
   "cell_type": "code",
   "execution_count": null,
   "metadata": {},
   "outputs": [],
   "source": [
    "# plot the pearce et al study first for the healthy agents\n",
    "time_step = .13\n",
    "\n",
    "first_trials = escape_times[:,:,0].mean(axis=0) * time_step\n",
    "fourth_trials = escape_times[:,:,1].mean(axis=0)* time_step\n",
    "\n",
    "first_trials_lesion = escape_times_lesion[:,:,0].mean(axis=0) * time_step\n",
    "fourth_trials_lesion = escape_times_lesion[:,:,1].mean(axis=0) * time_step\n"
   ]
  },
  {
   "cell_type": "code",
   "execution_count": null,
   "metadata": {},
   "outputs": [],
   "source": [
    "fig, ax = plt.subplots(figsize=(5,5))\n",
    "red = '#f9868a'\n",
    "blue = '#86c3f9'\n",
    "\n",
    "\n",
    "\n",
    "plt.plot(np.arange(1,12), first_trials_lesion[:-1], 'o-', color=red)\n",
    "plt.plot(np.arange(1,12), first_trials[:-1], 'o-', fillstyle='none', color=blue)\n",
    "plt.plot(np.arange(1,12), fourth_trials_lesion[:-1], 'o--', color=red)\n",
    "plt.plot(np.arange(1,12), fourth_trials[:-1], 'o--', fillstyle='none', color=blue)\n",
    "\n",
    "# Hide the right and top spines\n",
    "ax.spines['right'].set_visible(False)\n",
    "ax.spines['top'].set_visible(False)\n",
    "\n",
    "plt.ylim([0,122])\n",
    "plt.ylabel('Escape latency (s)', fontsize=15)\n",
    "plt.xlabel('Session', fontsize=15)\n",
    "\n",
    "plt.legend(['Hippocampal lesion - trial 1', 'Control - trial 1', \n",
    "            'Hippocampal lesion - trial 4', 'Control - trial 4'], fontsize=12)\n",
    "\n",
    "plt.xticks(np.arange(0, 12))\n",
    "\n",
    "plt.savefig(os.path.join(output_path,'PearceModel-ClearLegend.svg'))\n"
   ]
  },
  {
   "cell_type": "code",
   "execution_count": null,
   "metadata": {},
   "outputs": [],
   "source": [
    "%matplotlib notebook"
   ]
  },
  {
   "cell_type": "code",
   "execution_count": null,
   "metadata": {},
   "outputs": [],
   "source": [
    "# How do I get slow but true learning? Run with lambda 76 or higher tomorrow"
   ]
  },
  {
   "cell_type": "code",
   "execution_count": null,
   "metadata": {},
   "outputs": [],
   "source": [
    "def show_maze(ax, env, **kwargs):\n",
    "    angles = np.linspace(0, 2 * np.pi, 100)\n",
    "    x_marks = np.cos(angles) * env.maze_radius + env.maze_centre[0]\n",
    "    y_marks = np.sin(angles) * env.maze_radius + env.maze_centre[1]\n",
    "    ax.plot(x_marks, y_marks, color='k', LineWidth=3)"
   ]
  },
  {
   "cell_type": "code",
   "execution_count": null,
   "metadata": {},
   "outputs": [],
   "source": [
    "def plot_trajectories(ax, session_nr, all_paths, **kwargs):\n",
    "    plt.sca(ax)\n",
    "    ax.plot(all_paths[session_nr][:,0], all_paths[session_nr][:,1], **kwargs)\n",
    "    platform_loc = platform_locations[sessions[session_nr]]\n",
    "    previous_platform_loc =  platform_locations[sessions[session_nr-1]]\n",
    "\n",
    "    platform = plt.Circle(platform_loc, envi.platform_radius, color='k', fill=None)\n",
    "    ax.add_artist(platform)\n",
    "    platform_previous = plt.Circle(previous_platform_loc, envi.platform_radius, linestyle='solid', fill=True,\n",
    "                                  color='gray')\n",
    "    ax.add_artist(platform_previous)\n",
    "\n",
    "    show_maze(ax, envi, **kwargs)\n",
    "\n",
    "    plt.box('off')\n",
    "    plt.axis('equal')\n",
    "    plt.xticks([])\n",
    "    plt.yticks([])\n",
    "    "
   ]
  },
  {
   "cell_type": "code",
   "execution_count": null,
   "metadata": {},
   "outputs": [],
   "source": []
  },
  {
   "cell_type": "code",
   "execution_count": null,
   "metadata": {},
   "outputs": [],
   "source": []
  },
  {
   "cell_type": "code",
   "execution_count": null,
   "metadata": {},
   "outputs": [],
   "source": []
  },
  {
   "cell_type": "code",
   "execution_count": null,
   "metadata": {},
   "outputs": [],
   "source": []
  },
  {
   "cell_type": "code",
   "execution_count": null,
   "metadata": {},
   "outputs": [],
   "source": [
    "fig, axs = plt.subplots(2,2)\n",
    "plot_trajectories(axs[0,0], 7, first_trials_control, color=blue)\n",
    "plot_trajectories(axs[0,1], 7, first_trials_lesion, color=red)\n",
    "plot_trajectories(axs[1,0], 8, first_trials_control, color=blue)\n",
    "plot_trajectories(axs[1,1], 8, first_trials_lesion, color=red)\n",
    "plt.tight_layout(w_pad=-4, h_pad=4)\n",
    "\n",
    "plt.savefig(os.path.join(output_path,'PearceTrajectories.svg'))\n",
    "\n"
   ]
  },
  {
   "cell_type": "code",
   "execution_count": null,
   "metadata": {},
   "outputs": [],
   "source": []
  },
  {
   "cell_type": "code",
   "execution_count": null,
   "metadata": {},
   "outputs": [],
   "source": []
  }
 ],
 "metadata": {
  "kernelspec": {
   "display_name": "Python 3",
   "language": "python",
   "name": "python3"
  },
  "language_info": {
   "codemirror_mode": {
    "name": "ipython",
    "version": 3
   },
   "file_extension": ".py",
   "mimetype": "text/x-python",
   "name": "python",
   "nbconvert_exporter": "python",
   "pygments_lexer": "ipython3"
  }
 },
 "nbformat": 4,
 "nbformat_minor": 2
}
