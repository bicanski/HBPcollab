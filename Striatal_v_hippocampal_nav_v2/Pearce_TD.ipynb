{
 "cells": [
  {
   "cell_type": "code",
   "execution_count": null,
   "metadata": {},
   "outputs": [],
   "source": [
    "import sys\n",
    "sys.path.append('..')\n",
    "from tqdm import tqdm\n",
    "import numpy as np\n",
    "import matplotlib.pyplot as plt\n",
    "from plotting import tsplot, tsplot_boot,show_landmark_and_platform\n",
    "from tqdm import tqdm_notebook as tqdm\n",
    "import random"
   ]
  },
  {
   "cell_type": "code",
   "execution_count": null,
   "metadata": {},
   "outputs": [],
   "source": [
    "from environments import WaterMazeEnv\n",
    "from combined_agent import TDAgent as Agent\n",
    "from datetime import datetime\n",
    "import os \n",
    "from multiprocessing import Pool\n",
    "output_path = 'figures/'"
   ]
  },
  {
   "cell_type": "code",
   "execution_count": null,
   "metadata": {},
   "outputs": [],
   "source": [
    "def get_platform_and_landmark_locations(env, number=9):\n",
    "    angles = np.linspace(0, 2*np.pi, number)\n",
    "    r = env.maze_radius / 2\n",
    "    platform_locations = [[r * np.cos(a), r * np.sin(a)] for a in angles]\n",
    "    landmark_locations = [[r * np.cos(a), r * np.sin(a)+.1] for a in angles]\n",
    "    platform_locations = env.maze_centre + platform_locations\n",
    "    landmark_locations = env.maze_centre + landmark_locations\n",
    "    return platform_locations, landmark_locations\n",
    "\n",
    "envi = WaterMazeEnv()\n",
    "platform_locations, landmark_locations = get_platform_and_landmark_locations(envi)\n"
   ]
  },
  {
   "cell_type": "code",
   "execution_count": null,
   "metadata": {},
   "outputs": [],
   "source": [
    "ag = Agent(env=envi,lesion_hippocampus=False)"
   ]
  },
  {
   "cell_type": "code",
   "execution_count": null,
   "metadata": {},
   "outputs": [],
   "source": [
    "n_simulations = 30\n",
    "n_episodes = 15\n",
    "\n",
    "\n",
    "escape_times = np.zeros((n_simulations, n_episodes))\n",
    "\n",
    "for sim in tqdm(range(n_simulations)):\n",
    "    ag = Agent(env=envi,lesion_striatum=False, lesion_hippocampus=False)\n",
    "    ag.hippocampus.learning_rate = .02\n",
    "    ag.hippocampus.negative_learning_rate =.04\n",
    "    ag.striatum.learning_rate = .005\n",
    "    for ep in range(n_episodes):\n",
    "        \n",
    "        if ep == 0: \n",
    "            envi.set_platform_and_landmark(platform_locations[0], landmark_locations[0])\n",
    "\n",
    "        if ep == 7: \n",
    "            envi.set_platform_and_landmark(platform_locations[4], landmark_locations[4])\n",
    "\n",
    "        t, reward, locs, choices = ag.train_one_episode()\n",
    "        escape_times[sim, ep] = t"
   ]
  },
  {
   "cell_type": "code",
   "execution_count": null,
   "metadata": {},
   "outputs": [],
   "source": [
    "fig, ax = plt.subplots()\n",
    "tsplot_boot(ax, escape_times)"
   ]
  },
  {
   "cell_type": "code",
   "execution_count": null,
   "metadata": {},
   "outputs": [],
   "source": [
    "# proper sim"
   ]
  },
  {
   "cell_type": "code",
   "execution_count": null,
   "metadata": {},
   "outputs": [],
   "source": [
    "n_sims = 20\n",
    "n_trials = 4\n",
    "n_sessions = 12\n",
    "\n",
    "escape_times = np.zeros((n_sims, n_sessions, n_trials))\n",
    "session_ids = list(range(len(platform_locations)))\n",
    "sessions = [np.random.choice(session_ids) for _ in range(n_sessions)]\n",
    "\n",
    "sessions = [0, 4, 1, 5, 2, 6, 3, 7, 4, 8, 3, 0]\n",
    "\n",
    "first_trials_control_trajectory=[]\n",
    "\n",
    "sim=0\n",
    "for sim in tqdm(range(n_sims)):\n",
    "    ag = Agent(env=envi, lesion_striatum=False, lesion_hippocampus=False)\n",
    "    \n",
    "    ag.hippocampus.max_goal_response = 20\n",
    "    ag.striatum.lamb= .76\n",
    "    ag.hippocampus.learning_rate = .02\n",
    "    ag.hippocampus.negative_learning_rate =.02\n",
    "    ag.striatum.learning_rate = .005\n",
    "\n",
    "    ag.epsilon=.13\n",
    "    for sess_n, session in enumerate(sessions):\n",
    "        envi.set_platform_and_landmark(platform_locations[session], landmark_locations[session])\n",
    "        for trial in range(n_trials):\n",
    "            t, reward, locs, choices = ag.train_one_episode()\n",
    "            if trial == 0:\n",
    "                first_trials_control_trajectory.append(locs)\n",
    "            escape_times[sim, sess_n, trial] = t\n",
    "\n"
   ]
  },
  {
   "cell_type": "code",
   "execution_count": null,
   "metadata": {},
   "outputs": [],
   "source": [
    "escape_times_lesion = np.zeros((n_sims, n_sessions, n_trials))\n",
    "sim=0\n",
    "\n",
    "first_trials_lesion_trajectory=[]\n",
    "\n",
    "for sim in tqdm(range(n_sims)):\n",
    "    ag = Agent(env=envi, lesion_hippocampus=True, epsilon=.13)\n",
    "    \n",
    "    ag.striatum.lamb= .76\n",
    "    ag.hippocampus.learning_rate = .02\n",
    "    ag.hippocampus.negative_learning_rate =.02\n",
    "    ag.striatum.learning_rate = .005\n",
    "\n",
    "    for sess_n, session in enumerate(sessions):\n",
    "        envi.set_platform_and_landmark(platform_locations[session], landmark_locations[session])\n",
    "        \n",
    "        for trial in range(n_trials):\n",
    "            t, reward, locs, choices = ag.train_one_episode()\n",
    "            if trial == 0:\n",
    "                first_trials_lesion_trajectory.append(locs)\n",
    "            escape_times_lesion[sim, sess_n, trial] = t\n",
    "    \n",
    "\n"
   ]
  },
  {
   "cell_type": "code",
   "execution_count": null,
   "metadata": {},
   "outputs": [],
   "source": [
    "time_step = 1\n",
    "\n",
    "first_trials = escape_times[:,:,0].mean(axis=0) * time_step\n",
    "fourth_trials = escape_times[:,:,1].mean(axis=0)* time_step\n",
    "\n",
    "first_trials_lesion = escape_times_lesion[:,:,0].mean(axis=0) * time_step\n",
    "fourth_trials_lesion = escape_times_lesion[:,:,1].mean(axis=0) * time_step\n",
    "\n"
   ]
  },
  {
   "cell_type": "code",
   "execution_count": null,
   "metadata": {},
   "outputs": [],
   "source": [
    "fig, ax = plt.subplots(figsize=(5,5))\n",
    "red = '#f9868a'\n",
    "blue = '#86c3f9'\n",
    "\n",
    "\n",
    "plt.plot(np.arange(1,12), first_trials_lesion[:-1], 'o-', color=red)\n",
    "plt.plot(np.arange(1,12), first_trials[:-1], 'o-', fillstyle='none', color=blue)\n",
    "plt.plot(np.arange(1,12), fourth_trials_lesion[:-1], 'o--', color=red)\n",
    "plt.plot(np.arange(1,12), fourth_trials[:-1], 'o--', fillstyle='none', color=blue)\n",
    "\n",
    "# Hide the right and top spines\n",
    "ax.spines['right'].set_visible(False)\n",
    "ax.spines['top'].set_visible(False)\n",
    "\n",
    "#plt.ylim([0,122])\n",
    "plt.ylabel('Escape latency (s)', fontsize=15)\n",
    "plt.xlabel('Session', fontsize=15)\n",
    "\n",
    "plt.legend(['Hippocampal lesion - trial 1', 'Control - trial 1', \n",
    "            'Hippocampal lesion - trial 4', 'Control - trial 4'], fontsize=12)\n",
    "\n",
    "plt.xticks(np.arange(0, 12))\n",
    "\n",
    "\n",
    "\n",
    "plt.savefig(os.path.join(output_path,'PearceModel-ClearLegend.svg'))\n",
    "\n",
    "plt.show()"
   ]
  },
  {
   "cell_type": "code",
   "execution_count": null,
   "metadata": {},
   "outputs": [],
   "source": []
  }
 ],
 "metadata": {
  "kernelspec": {
   "display_name": "Python 3",
   "language": "python",
   "name": "python3"
  },
  "language_info": {
   "codemirror_mode": {
    "name": "ipython",
    "version": 3
   },
   "file_extension": ".py",
   "mimetype": "text/x-python",
   "name": "python",
   "nbconvert_exporter": "python",
   "pygments_lexer": "ipython3"
  }
 },
 "nbformat": 4,
 "nbformat_minor": 2
}
