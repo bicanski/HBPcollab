{
 "cells": [
  {
   "cell_type": "code",
   "execution_count": null,
   "metadata": {},
   "outputs": [],
   "source": [
    "from sklearn import manifold\n",
    "import numpy as np\n",
    "import pandas as pd\n",
    "import os\n",
    "import matplotlib.pyplot as plt"
   ]
  },
  {
   "cell_type": "code",
   "execution_count": null,
   "metadata": {},
   "outputs": [],
   "source": [
    "xs, ys = np.meshgrid(np.linspace(0,1,100), np.linspace(0,1,100))"
   ]
  },
  {
   "cell_type": "code",
   "execution_count": null,
   "metadata": {},
   "outputs": [],
   "source": [
    "b = [[x,y] for x, y in zip(xs.flatten(), ys.flatten())]"
   ]
  },
  {
   "cell_type": "code",
   "execution_count": null,
   "metadata": {},
   "outputs": [],
   "source": [
    "circle = pd.DataFrame(np.array([xs.flatten(), ys.flatten()]).T, columns=['x','y'])\n",
    "plusmaze = pd.DataFrame(np.array([xs.flatten(), ys.flatten()]).T, columns=['x','y'])"
   ]
  },
  {
   "cell_type": "code",
   "execution_count": null,
   "metadata": {},
   "outputs": [],
   "source": [
    "df.head()"
   ]
  },
  {
   "cell_type": "code",
   "execution_count": null,
   "metadata": {},
   "outputs": [],
   "source": [
    "# Cut out the four corners to make a Plus Maze\n",
    "def cut_corners(df):\n",
    "    df = df.drop(df.loc[(df.x<.35) & (df.y<.35) ].index)\n",
    "    df = df.drop(df.loc[(df.x>.65) & (df.y<.35) ].index)\n",
    "    df = df.drop(df.loc[(df.x>.65) & (df.y>.65) ].index)\n",
    "    df = df.drop(df.loc[(df.x<.35) & (df.y>.65) ].index)\n",
    "    return df\n",
    "    \n",
    "plusmaze = cut_corners(plusmaze)"
   ]
  },
  {
   "cell_type": "code",
   "execution_count": null,
   "metadata": {},
   "outputs": [],
   "source": [
    "def in_circle(point, centre, radius):\n",
    "    distance = np.linalg.norm(np.array(point).T - np.array(centre), axis=1)\n",
    "    return distance <= radius\n",
    "\n",
    "circle['InCircle'] = in_circle(np.array(circle).T, [.5,.5], .5)\n"
   ]
  },
  {
   "cell_type": "code",
   "execution_count": null,
   "metadata": {},
   "outputs": [],
   "source": [
    "circle = circle[circle.InCircle==True]"
   ]
  },
  {
   "cell_type": "code",
   "execution_count": null,
   "metadata": {},
   "outputs": [],
   "source": [
    "\n",
    "#df = df.drop(df.loc[(df.x>.4) & (df.x<.6) & (df.y<.45) ].index)\n",
    "#df = df.drop(df.loc[(df.x>.4) & (df.x<.6) & (df.y>.55) ].index)\n",
    "\n",
    "fig, axs = plt.subplots(1,2)\n",
    "\n",
    "circle.plot.scatter('x','y', ax=axs[0])\n",
    "plt.sca(axs[0])\n",
    "plt.axis('equal')\n",
    "\n",
    "plusmaze.plot.scatter('x','y', ax=axs[1])\n",
    "plt.sca(axs[1])\n",
    "\n",
    "\n",
    "plt.axis('equal')\n",
    "plt.tight_layout()\n",
    "plt.show()\n"
   ]
  },
  {
   "cell_type": "code",
   "execution_count": null,
   "metadata": {},
   "outputs": [],
   "source": [
    "help(manifold.Isomap)"
   ]
  },
  {
   "cell_type": "code",
   "execution_count": null,
   "metadata": {},
   "outputs": [],
   "source": [
    "iso = manifold.Isomap(n_neighbors=4,path_method='FW')\n"
   ]
  },
  {
   "cell_type": "code",
   "execution_count": null,
   "metadata": {},
   "outputs": [],
   "source": [
    "iso.fit(circle)"
   ]
  },
  {
   "cell_type": "code",
   "execution_count": null,
   "metadata": {},
   "outputs": [],
   "source": [
    "iso2 = manifold.Isomap(n_neighbors=4,path_method='FW')\n",
    "iso2.fit(plusmaze)"
   ]
  },
  {
   "cell_type": "code",
   "execution_count": null,
   "metadata": {},
   "outputs": [],
   "source": [
    "geo_circle = iso.transform(circle)\n",
    "\n",
    "geo_plus = iso2.transform(plusmaze)"
   ]
  },
  {
   "cell_type": "code",
   "execution_count": null,
   "metadata": {},
   "outputs": [],
   "source": [
    "geo_circle = pd.DataFrame(geo_circle, columns=['GeoX', 'GeoY'])\n",
    "geo_plus = pd.DataFrame(geo_plus, columns=['GeoX', 'GeoY'])\n"
   ]
  },
  {
   "cell_type": "code",
   "execution_count": null,
   "metadata": {},
   "outputs": [],
   "source": [
    "fig, axs = plt.subplots(2,2)\n",
    "\n",
    "output_folder = 'figures/'\n",
    "\n",
    "plt.sca(axs[0,0])\n",
    "circle.plot.scatter('x','y', ax=axs[0,0])\n",
    "plt.axis('equal')\n",
    "plt.title('Euclidean space')\n",
    "\n",
    "plt.sca(axs[1,0])\n",
    "geo_circle.plot.scatter('GeoX', 'GeoY',ax=axs[1,0])\n",
    "plt.axis('equal')\n",
    "plt.title('Geodesic embedding')\n",
    "\n",
    "plt.sca(axs[0,1])\n",
    "plusmaze.plot.scatter('x','y', ax=axs[0,1])\n",
    "plt.axis('equal')\n",
    "plt.title('Euclidean space')\n",
    "\n",
    "plt.sca(axs[1,1])\n",
    "geo_plus.plot.scatter('GeoX', 'GeoY', ax=axs[1,1])\n",
    "plt.axis('equal')\n",
    "plt.title('Geodesic embedding')\n",
    "\n",
    "plt.tight_layout()\n",
    "\n",
    "plt.savefig(os.path.join(output_folder,'Geodesic.png'))\n",
    "plt.show()"
   ]
  },
  {
   "cell_type": "code",
   "execution_count": null,
   "metadata": {},
   "outputs": [],
   "source": [
    "axs.shape"
   ]
  },
  {
   "cell_type": "code",
   "execution_count": null,
   "metadata": {},
   "outputs": [],
   "source": []
  },
  {
   "cell_type": "code",
   "execution_count": null,
   "metadata": {},
   "outputs": [],
   "source": []
  },
  {
   "cell_type": "code",
   "execution_count": null,
   "metadata": {},
   "outputs": [],
   "source": []
  }
 ],
 "metadata": {
  "kernelspec": {
   "display_name": "Python 3",
   "language": "python",
   "name": "python3"
  },
  "language_info": {
   "codemirror_mode": {
    "name": "ipython",
    "version": 3
   },
   "file_extension": ".py",
   "mimetype": "text/x-python",
   "name": "python",
   "nbconvert_exporter": "python",
   "pygments_lexer": "ipython3"
  }
 },
 "nbformat": 4,
 "nbformat_minor": 2
}
