{
 "cells": [
  {
   "cell_type": "code",
   "execution_count": null,
   "metadata": {},
   "outputs": [],
   "source": [
    "from environments import PlusMaze\n",
    "from combined_agent import Agent\n",
    "import numpy as np\n",
    "import matplotlib.pyplot as plt\n",
    "from tqdm import tqdm_notebook as tqdm\n",
    "from plotting import tsplot_boot\n",
    "%matplotlib notebook\n",
    "# Which brain area do we sample from? \n",
    "from collections import Counter\n",
    "import pandas as pd"
   ]
  },
  {
   "cell_type": "code",
   "execution_count": null,
   "metadata": {},
   "outputs": [],
   "source": [
    "n_agents = 30\n",
    "n_episodes = 25\n",
    "env=PlusMaze()\n",
    "\n"
   ]
  },
  {
   "cell_type": "code",
   "execution_count": null,
   "metadata": {},
   "outputs": [],
   "source": [
    "import os\n",
    "output_folder = 'figures/'"
   ]
  },
  {
   "cell_type": "code",
   "execution_count": null,
   "metadata": {},
   "outputs": [],
   "source": [
    "escape_times = np.zeros((n_agents, n_episodes, 3))\n",
    "\n",
    "for it in tqdm(range(n_agents)):\n",
    "    hipp = Agent(env=env, lesion_hippocampus=True)\n",
    "    stria = Agent(env=env, lesion_striatum=True)\n",
    "    stria.hippocampus.max_goal_response = .05\n",
    "    cont = Agent(env=env)\n",
    "    cont.hippocampus.max_goal_response = .05\n",
    "    for ep in range(n_episodes):\n",
    "        th, rh, locs, choices = hipp.train_one_episode()\n",
    "        #hipp.striatum.field_width = 5\n",
    "        ts, rs, locs, choices = stria.train_one_episode()\n",
    "        tc, rc, locs, choices = cont.train_one_episode()\n",
    "        #cont.striatum.field_width = 5\n",
    "        escape_times[it, ep, 0] = rh\n",
    "        escape_times[it, ep, 1] = rs\n",
    "        escape_times[it, ep, 2] = rc"
   ]
  },
  {
   "cell_type": "code",
   "execution_count": null,
   "metadata": {},
   "outputs": [],
   "source": [
    "fig, ax = plt.subplots()\n",
    "tsplot_boot(ax, escape_times[:,:,0])\n",
    "tsplot_boot(ax, escape_times[:,:,1], color='r')\n",
    "tsplot_boot(ax, escape_times[:,:,2], color='g')\n",
    "plt.ylabel('Reward')\n",
    "plt.xlabel('Trial')\n",
    "plt.legend(['Hippocampal lesion', 'Striatal lesion', 'Control'])\n",
    "plt.show()"
   ]
  },
  {
   "cell_type": "code",
   "execution_count": null,
   "metadata": {},
   "outputs": [],
   "source": [
    "fig, ax = plt.subplots()\n",
    "plt.imshow(cont.striatum.weight_mat)"
   ]
  },
  {
   "cell_type": "code",
   "execution_count": null,
   "metadata": {},
   "outputs": [],
   "source": [
    "cont.hippocampus.plot_value_function()"
   ]
  },
  {
   "cell_type": "code",
   "execution_count": null,
   "metadata": {},
   "outputs": [],
   "source": [
    "n_agents = 30\n",
    "n_episodes = 15\n",
    "\n",
    "allrand = np.zeros((n_agents, n_episodes))\n",
    "allstriat = np.zeros((n_agents, n_episodes))\n",
    "allhipp = np.zeros((n_agents, n_episodes))\n",
    "\n",
    "for it in tqdm(range(n_agents)):\n",
    "    all_choices = []\n",
    "\n",
    "    ag = Agent(env=env)\n",
    "    ag.hippocampus.max_goal_response = .05\n",
    "    for ep in range(n_episodes):\n",
    "        tc, r, locs, choices = ag.train_one_episode()\n",
    "        all_choices.append(choices)\n",
    "\n",
    "    rand = []\n",
    "    striat = []\n",
    "    hipp = []\n",
    "    for ep in all_choices:\n",
    "        counts = Counter(ep)\n",
    "        rand.append(counts['random'])\n",
    "        striat.append(counts['striatum'])\n",
    "        hipp.append(counts['hippocampus'])\n",
    "        \n",
    "    allrand[it] = rand\n",
    "    allstriat[it] = striat\n",
    "    allhipp[it] = hipp"
   ]
  },
  {
   "cell_type": "code",
   "execution_count": null,
   "metadata": {},
   "outputs": [],
   "source": [
    "rand = np.mean(allrand, axis=0)\n",
    "striat = np.mean(allrand, axis=0)\n",
    "hipp = np.mean(allhipp, axis=0)"
   ]
  },
  {
   "cell_type": "code",
   "execution_count": null,
   "metadata": {},
   "outputs": [],
   "source": [
    "# Data\n",
    "r = np.arange(len(all_choices))\n",
    "raw_data = {'Random': rand, 'Striatum': striat,'Hippocampus': hipp}\n",
    "df = pd.DataFrame(raw_data)\n",
    "\n",
    "\n"
   ]
  },
  {
   "cell_type": "code",
   "execution_count": null,
   "metadata": {},
   "outputs": [],
   "source": [
    "plt.figure()\n",
    "\n",
    "# From raw value to percentage\n",
    "totals = [i+j for i,j in zip(df['Striatum'], df['Hippocampus'])]\n",
    "greenBars = [i / j * 100 for i,j in zip(df['Hippocampus'], totals)]\n",
    "orangeBars = [i / j * 100 for i,j in zip(df['Striatum'], totals)]\n",
    " \n",
    "# plot\n",
    "barWidth = 0.85\n",
    "names = r\n",
    "# Create green Bars\n",
    "plt.bar(r, greenBars, color='#b5ffb9', edgecolor='white', width=barWidth)\n",
    "# Create orange Bars\n",
    "plt.bar(r, orangeBars, bottom=greenBars, color='#f9bc86', edgecolor='white', width=barWidth)\n",
    " \n",
    "# Custom x axis\n",
    "plt.xticks(r, names)\n",
    "plt.xlabel(\"Trial\")\n",
    "plt.ylabel('% choices')\n",
    "plt.legend(['Hippocampus', 'Striatum'])\n",
    "plt.title('Frequency of choices')\n",
    "# Show graphic\n",
    "plt.show()"
   ]
  },
  {
   "cell_type": "markdown",
   "metadata": {},
   "source": [
    "## Now do the actual packard & McGaugh experiment"
   ]
  },
  {
   "cell_type": "code",
   "execution_count": null,
   "metadata": {},
   "outputs": [],
   "source": [
    "agent = Agent(env=PlusMaze())"
   ]
  },
  {
   "cell_type": "code",
   "execution_count": null,
   "metadata": {},
   "outputs": [],
   "source": [
    "def packard_exp(agent, n_trials=5):\n",
    "    agent.env.start_on_original_side()\n",
    "    for ep in range(n_trials):\n",
    "        t, reward, _, choices = agent.train_one_episode()\n",
    "    agent.env.start_on_opposite_side()\n",
    "    t, reward, locs, choices = agent.train_one_episode()\n",
    "    return locs[-1]"
   ]
  },
  {
   "cell_type": "code",
   "execution_count": null,
   "metadata": {},
   "outputs": [],
   "source": [
    "#agent.env.start_on_opposite_side()\n",
    "agent.env.start_on_original_side()\n",
    "t, reward, locs, choices = agent.train_one_episode()"
   ]
  },
  {
   "cell_type": "code",
   "execution_count": null,
   "metadata": {},
   "outputs": [],
   "source": [
    "plt.figure()\n",
    "plt.plot(locs[:, 0], locs[:, 1])\n",
    "plt.xlim([agent.env.minx, agent.env.maxx])\n",
    "plt.ylim([agent.env.miny, agent.env.maxy])\n",
    "agent.env.draw_maze()\n",
    "\n"
   ]
  },
  {
   "cell_type": "markdown",
   "metadata": {},
   "source": [
    "## Sanity check that hippocampal lesions only do response strategies"
   ]
  },
  {
   "cell_type": "code",
   "execution_count": null,
   "metadata": {},
   "outputs": [],
   "source": [
    "agent = Agent(env=PlusMaze(), lesion_hippocampus=True)\n",
    "choices= []\n",
    "for session in range(10):\n",
    "    end_location = packard_exp(agent,n_trials=5)\n",
    "    if end_location[0] <= .1:\n",
    "        choice = 'place'\n",
    "    elif end_location[0] >= .9:\n",
    "        choice = 'response'\n",
    "    else:\n",
    "        choice = 'other'\n",
    "    choices.append(choice)"
   ]
  },
  {
   "cell_type": "code",
   "execution_count": null,
   "metadata": {},
   "outputs": [],
   "source": [
    "choices"
   ]
  },
  {
   "cell_type": "markdown",
   "metadata": {},
   "source": [
    "## Sanity check that striatal lesions only do place strategies"
   ]
  },
  {
   "cell_type": "code",
   "execution_count": null,
   "metadata": {},
   "outputs": [],
   "source": [
    "agent = Agent(env=PlusMaze(), lesion_striatum=True)\n",
    "choices= []\n",
    "for session in range(10):\n",
    "    end_location = packard_exp(agent,n_trials=5)\n",
    "    if end_location[0] <= .1:\n",
    "        choice = 'place'\n",
    "    elif end_location[0] >= .9:\n",
    "        choice = 'response'\n",
    "    else:\n",
    "        choice = 'other'\n",
    "    choices.append(choice)"
   ]
  },
  {
   "cell_type": "code",
   "execution_count": null,
   "metadata": {},
   "outputs": [],
   "source": [
    "choices"
   ]
  },
  {
   "cell_type": "markdown",
   "metadata": {},
   "source": [
    "## Now the full experiment"
   ]
  },
  {
   "cell_type": "code",
   "execution_count": null,
   "metadata": {},
   "outputs": [],
   "source": [
    "all_choices = []\n",
    "for ag in range(30):\n",
    "    agent = Agent(env=PlusMaze())\n",
    "    agent.hippocampus.goal_cell_decay_factor = 1\n",
    "    choices= []\n",
    "    for session in range(5):\n",
    "        end_location = packard_exp(agent,n_trials=5)\n",
    "        if end_location[0] <= .1:\n",
    "            choice = 'place'\n",
    "        elif end_location[0] >= .9:\n",
    "            choice = 'response'\n",
    "        else:\n",
    "            choice = 'other'\n",
    "        choices.append(choice)\n",
    "    all_choices.append(choices)"
   ]
  },
  {
   "cell_type": "code",
   "execution_count": null,
   "metadata": {},
   "outputs": [],
   "source": [
    "ac = np.array(all_choices)"
   ]
  },
  {
   "cell_type": "code",
   "execution_count": null,
   "metadata": {},
   "outputs": [],
   "source": []
  },
  {
   "cell_type": "code",
   "execution_count": null,
   "metadata": {},
   "outputs": [],
   "source": [
    "data = []\n",
    "for session in range(5):\n",
    "    c = Counter(ac.T[session])\n",
    "    choice_proportions = np.array([c['place'], c['response']]) / (c['place'] + c['response']) * 100\n",
    "    data.append(choice_proportions)"
   ]
  },
  {
   "cell_type": "code",
   "execution_count": null,
   "metadata": {},
   "outputs": [],
   "source": [
    "data = np.array(data).T\n",
    "len(data[0])"
   ]
  },
  {
   "cell_type": "code",
   "execution_count": null,
   "metadata": {},
   "outputs": [],
   "source": [
    "data[0]"
   ]
  },
  {
   "cell_type": "code",
   "execution_count": null,
   "metadata": {},
   "outputs": [],
   "source": [
    "r = np.arange(len(data[0]))"
   ]
  },
  {
   "cell_type": "code",
   "execution_count": null,
   "metadata": {},
   "outputs": [],
   "source": [
    "plt.figure()\n",
    "# plot\n",
    "barWidth = 0.85\n",
    "names = r + 1\n",
    "# Create green Bars\n",
    "plt.bar(r, data[0], color='#b5ffb9', edgecolor='white', width=barWidth)\n",
    "# Create orange Bars\n",
    "plt.bar(r, data[1], bottom=data[0], color='#f9bc86', edgecolor='white', width=barWidth)\n",
    " \n",
    "# Custom x axis\n",
    "plt.xticks(r, names)\n",
    "plt.xlabel(\"Session\")\n",
    "plt.ylabel('% choices')\n",
    "plt.legend(['Place', 'Response'])\n",
    "plt.title('Frequency of choices on probe trial')\n",
    "# Show graphic\n",
    "plt.show()"
   ]
  },
  {
   "cell_type": "code",
   "execution_count": null,
   "metadata": {},
   "outputs": [],
   "source": []
  },
  {
   "cell_type": "markdown",
   "metadata": {},
   "source": [
    "## Recreate original figure"
   ]
  },
  {
   "cell_type": "code",
   "execution_count": null,
   "metadata": {},
   "outputs": [],
   "source": [
    "all_choices_hipp = []\n",
    "for ag in range(30):\n",
    "    agent = Agent(env=PlusMaze(), lesion_hippocampus=True)\n",
    "    choices= []\n",
    "    for session in range(5):\n",
    "        end_location = packard_exp(agent,n_trials=5)\n",
    "        if end_location[0] <= .1:\n",
    "            choice = 'place'\n",
    "        elif end_location[0] >= .9:\n",
    "            choice = 'response'\n",
    "        else:\n",
    "            choice = 'other'\n",
    "        choices.append(choice)\n",
    "    all_choices_hipp.append(choices)"
   ]
  },
  {
   "cell_type": "code",
   "execution_count": null,
   "metadata": {},
   "outputs": [],
   "source": [
    "all_choices_striat = []\n",
    "for ag in range(30):\n",
    "    agent = Agent(env=PlusMaze(), lesion_striatum=True)\n",
    "    agent.hippocampus.goal_cell_decay_factor = 1\n",
    "    choices= []\n",
    "    for session in range(5):\n",
    "        end_location = packard_exp(agent,n_trials=5)\n",
    "        if end_location[0] <= .1:\n",
    "            choice = 'place'\n",
    "        elif end_location[0] >= .9:\n",
    "            choice = 'response'\n",
    "        else:\n",
    "            choice = 'other'\n",
    "        choices.append(choice)\n",
    "    all_choices_striat.append(choices)"
   ]
  },
  {
   "cell_type": "code",
   "execution_count": null,
   "metadata": {},
   "outputs": [],
   "source": []
  },
  {
   "cell_type": "code",
   "execution_count": null,
   "metadata": {},
   "outputs": [],
   "source": [
    "acs = np.array(all_choices_striat)\n",
    "data_striat = []\n",
    "for session in [0,4]:\n",
    "    c = Counter(acs.T[session])\n",
    "    choice_proportions = np.array([c['place'], c['response']]) / (c['place'] + c['response']) * 100\n",
    "    data_striat.append(choice_proportions)"
   ]
  },
  {
   "cell_type": "code",
   "execution_count": null,
   "metadata": {},
   "outputs": [],
   "source": [
    "ach = np.array(all_choices_hipp)\n",
    "data_hipp = []\n",
    "for session in [0,4]:\n",
    "    c = Counter(ach.T[session])\n",
    "    choice_proportions = np.array([c['place'], c['response']]) / (c['place'] + c['response']) * 100\n",
    "    data_hipp.append(choice_proportions)"
   ]
  },
  {
   "cell_type": "code",
   "execution_count": null,
   "metadata": {},
   "outputs": [],
   "source": [
    "# now make the plots"
   ]
  },
  {
   "cell_type": "code",
   "execution_count": null,
   "metadata": {},
   "outputs": [],
   "source": [
    "bottom_saline = [data[0][0], data[0][0]]\n",
    "top_saline = [data[1][0], data[1][0]]\n",
    "bottom_lido = [data_striat[0][0], data_hipp[0][0]]\n",
    "top_lido = [data_striat[0][1], data_hipp[0][1]]\n",
    "\n",
    "bottom_saline_l = [data[0][-1], data[0][-1]]\n",
    "top_saline_l = [data[1][-1], data[1][-1]]\n",
    "bottom_lido_l = [data_striat[-1][0], data_hipp[-1][0]]\n",
    "top_lido_l = [data_striat[-1][1], data_hipp[-1][1]]\n"
   ]
  },
  {
   "cell_type": "code",
   "execution_count": null,
   "metadata": {},
   "outputs": [],
   "source": [
    "barWidth = 0.35\n",
    "r1 = np.arange(len(bottom_saline))\n",
    "r2 = r1 + barWidth"
   ]
  },
  {
   "cell_type": "code",
   "execution_count": null,
   "metadata": {},
   "outputs": [],
   "source": [
    "def zip_lists(list_1, list_2):\n",
    "    \"\"\"Appends two list with alternating elements from list 1 and list 2.\n",
    "\n",
    "    Note: this method assumes lists of equal length. If one list is longer than the other list, the later elements of\n",
    "    the list are ignored, and the resulting  list will have length len(shortest_list) * 2.\n",
    "\n",
    "    :param list_1:\n",
    "    :param list_2:\n",
    "    :return:\n",
    "    \"\"\"\n",
    "    if len(list_1) != len(list_2):\n",
    "        print('Warning: lists are of unequal length. Result length will match (2x) shortest.')\n",
    "    return [j for i in zip(list_1, list_2) for j in i]\n",
    "\n"
   ]
  },
  {
   "cell_type": "code",
   "execution_count": null,
   "metadata": {},
   "outputs": [],
   "source": [
    "fig, axs = plt.subplots(1,2,sharey=True, figsize =(7,5))\n",
    "\n",
    "## Early \n",
    "plt.sca(axs[0])\n",
    "plt.title('Early in training', y=1.15)\n",
    "# Saline group\n",
    "plt.bar(r1, bottom_saline, color='#b5ffb9', edgecolor='white', width=barWidth)\n",
    "plt.bar(r1, top_saline, bottom=bottom_saline, color='#f9bc86', edgecolor='white', width=barWidth)\n",
    "plt.box(False)\n",
    "# Lidocaine group\n",
    "plt.bar(r2, bottom_lido, color='#b5ffb9', edgecolor='white', width=barWidth)\n",
    "plt.bar(r2, top_lido, bottom=bottom_lido, color='#f9bc86', edgecolor='white', width=barWidth)\n",
    "plt.ylabel('% of agents')\n",
    "plt.xticks(zip_lists(r1,r2), \n",
    "           [r'$\\bf{Saline}$'+'\\n(Control)', r'$\\bf{Lidocaine}$'+'\\n(Inactivation)', \n",
    "            r'$\\bf{Saline}$'+'\\n(Control)', r'$\\bf{Lidocaine}$'+'\\n(Inactivation)'], \n",
    "           rotation=60, fontsize=10)\n",
    "\n",
    "plt.tight_layout()\n",
    "plt.text(-.15,105,'Striatum')\n",
    "plt.text(.7,105,'Hippocampus')\n",
    "\n",
    "## Late\n",
    "plt.sca(axs[1])\n",
    "plt.title('Late in training', y=1.15)\n",
    "\n",
    "# Saline group\n",
    "plt.bar(r1, bottom_saline_l, color='#b5ffb9', edgecolor='white', width=barWidth)\n",
    "plt.bar(r1, top_saline_l, bottom=bottom_saline_l, color='#f9bc86', edgecolor='white', width=barWidth)\n",
    "plt.box(False)\n",
    "# Lidocaine group\n",
    "plt.bar(r2, bottom_lido_l, color='#b5ffb9', edgecolor='white', width=barWidth)\n",
    "plt.bar(r2, top_lido_l, bottom=bottom_lido_l, color='#f9bc86', edgecolor='white', width=barWidth)\n",
    "\n",
    "plt.xticks(zip_lists(r1,r2), \n",
    "           [r'$\\bf{Saline}$'+'\\n(Control)', r'$\\bf{Lidocaine}$'+'\\n(Inactivation)', \n",
    "            r'$\\bf{Saline}$'+'\\n(Control)', r'$\\bf{Lidocaine}$'+'\\n(Inactivation)'], \n",
    "           rotation=60, fontsize=10)\n",
    "plt.tight_layout(pad=5,w_pad=4, h_pad=3)\n",
    "#plt.text(-.2,-35,'Striatum')\n",
    "plt.text(-0.15,105,'Striatum')\n",
    "plt.text(.7,105,'Hippocampus')\n",
    "\n",
    "plt.legend(['Place Strategy', 'Response Strategy'])\n",
    "\n",
    "\n",
    "\n",
    "plt.savefig(os.path.join(output_folder, 'PackardMcGaughModel.svg'))\n",
    "\n",
    "\n"
   ]
  },
  {
   "cell_type": "code",
   "execution_count": null,
   "metadata": {},
   "outputs": [],
   "source": [
    "help(plt.title)"
   ]
  },
  {
   "cell_type": "code",
   "execution_count": null,
   "metadata": {},
   "outputs": [],
   "source": []
  },
  {
   "cell_type": "code",
   "execution_count": null,
   "metadata": {},
   "outputs": [],
   "source": []
  },
  {
   "cell_type": "markdown",
   "metadata": {},
   "source": [
    "## Plot original data"
   ]
  },
  {
   "cell_type": "code",
   "execution_count": null,
   "metadata": {},
   "outputs": [],
   "source": [
    "bottom_saline = [10 / 12 * 100, 12 / 14 * 100]\n",
    "top_saline = [2 / 12 * 100, 2 / 14 * 100]\n",
    "bottom_lido = [10 / 12 * 100, 6/12*100]\n",
    "top_lido = [2 / 12 * 100, 6/12*100]\n",
    "\n",
    "bottom_saline_l = [2/ 12*100, 3/14*100]\n",
    "top_saline_l = [10/12 *100, 11/14*100]\n",
    "bottom_lido_l = [11/12 *100, 2/12*100]\n",
    "top_lido_l = [1 / 12 * 100, 10/12*100]\n"
   ]
  },
  {
   "cell_type": "code",
   "execution_count": null,
   "metadata": {},
   "outputs": [],
   "source": [
    "fig, axs = plt.subplots(1,2,sharey=True, figsize =(7,5))\n",
    "\n",
    "orange = '#f9bc86'\n",
    "green = '#b5ffb9'\n",
    "\n",
    "## Early \n",
    "plt.sca(axs[0])\n",
    "plt.title('Test day 8', y=1.15)\n",
    "# Saline group\n",
    "plt.bar(r1, bottom_saline, color=green, edgecolor='white', width=barWidth)\n",
    "plt.bar(r1, top_saline, bottom=bottom_saline, color=orange, edgecolor='white', width=barWidth)\n",
    "plt.box(False)\n",
    "# Lidocaine group\n",
    "plt.bar(r2, bottom_lido, color=green, edgecolor='white', width=barWidth)\n",
    "plt.bar(r2, top_lido, bottom=bottom_lido, color=orange, edgecolor='white', width=barWidth)\n",
    "plt.ylabel('% of animals')\n",
    "plt.xticks(zip_lists(r1,r2), \n",
    "           [r'$\\bf{Saline}$'+'\\n(Control)', r'$\\bf{Lidocaine}$'+'\\n(Inactivation)', \n",
    "            r'$\\bf{Saline}$'+'\\n(Control)', r'$\\bf{Lidocaine}$'+'\\n(Inactivation)'], \n",
    "           rotation=60, fontsize=10)\n",
    "\n",
    "plt.tight_layout()\n",
    "plt.text(-.15,105,'Striatum')\n",
    "plt.text(.7,105,'Hippocampus')\n",
    "\n",
    "## Late\n",
    "plt.sca(axs[1])\n",
    "plt.title('Test Day 16', y=1.15)\n",
    "\n",
    "# Saline group\n",
    "plt.bar(r1, bottom_saline_l, color=green, edgecolor='white', width=barWidth)\n",
    "plt.bar(r1, top_saline_l, bottom=bottom_saline_l, color=orange, edgecolor='white', width=barWidth)\n",
    "plt.box(False)\n",
    "# Lidocaine group\n",
    "plt.bar(r2, bottom_lido_l, color=green, edgecolor='white', width=barWidth)\n",
    "plt.bar(r2, top_lido_l, bottom=bottom_lido_l, color=orange, edgecolor='white', width=barWidth)\n",
    "plt.xticks(zip_lists(r1,r2), \n",
    "           [r'$\\bf{Saline}$'+'\\n(Control)', r'$\\bf{Lidocaine}$'+'\\n(Inactivation)', \n",
    "            r'$\\bf{Saline}$'+'\\n(Control)', r'$\\bf{Lidocaine}$'+'\\n(Inactivation)'], \n",
    "           rotation=60, fontsize=10)\n",
    "\n",
    "plt.tight_layout(pad=5,w_pad=4, h_pad=3)\n",
    "plt.text(-.15,105,'Striatum')\n",
    "plt.text(.7,105,'Hippocampus')\n",
    "\n",
    "plt.legend(['Place Strategy', 'Response Strategy'])\n",
    "\n",
    "\n",
    "plt.savefig(os.path.join(output_folder, 'PackardMcGaughData.svg'))"
   ]
  },
  {
   "cell_type": "code",
   "execution_count": null,
   "metadata": {},
   "outputs": [],
   "source": []
  },
  {
   "cell_type": "code",
   "execution_count": null,
   "metadata": {},
   "outputs": [],
   "source": []
  },
  {
   "cell_type": "code",
   "execution_count": null,
   "metadata": {},
   "outputs": [],
   "source": []
  }
 ],
 "metadata": {
  "kernelspec": {
   "display_name": "Python 3",
   "language": "python",
   "name": "python3"
  },
  "language_info": {
   "codemirror_mode": {
    "name": "ipython",
    "version": 3
   },
   "file_extension": ".py",
   "mimetype": "text/x-python",
   "name": "python",
   "nbconvert_exporter": "python",
   "pygments_lexer": "ipython3"
  }
 },
 "nbformat": 4,
 "nbformat_minor": 2
}
