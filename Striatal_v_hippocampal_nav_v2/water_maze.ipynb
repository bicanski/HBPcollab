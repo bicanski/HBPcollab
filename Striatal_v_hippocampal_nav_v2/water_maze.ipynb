{
 "cells": [
  {
   "cell_type": "code",
   "execution_count": null,
   "metadata": {},
   "outputs": [],
   "source": [
    "from combined_agent import Agent\n",
    "import numpy as np\n",
    "import matplotlib.pyplot as plt\n",
    "from tqdm import tqdm\n",
    "from plotting import tsplot_boot\n",
    "%matplotlib notebook"
   ]
  },
  {
   "cell_type": "markdown",
   "metadata": {},
   "source": [
    "## Performance of hippocampus, striatum and combined"
   ]
  },
  {
   "cell_type": "code",
   "execution_count": null,
   "metadata": {},
   "outputs": [],
   "source": [
    "n_agents = 20\n",
    "n_episodes = 15\n",
    "\n",
    "escape_times = np.zeros((n_agents, n_episodes, 3))\n",
    "\n",
    "for it in tqdm(range(n_agents)):\n",
    "    hipp = Agent(lesion_hippocampus=True)\n",
    "    stria = Agent(lesion_striatum=True)\n",
    "    cont = Agent()\n",
    "    cont.hippocampus.max_goal_response= 8\n",
    "    for ep in range(n_episodes):\n",
    "        th, r, locs, choices = hipp.train_one_episode()\n",
    "        ts, r, locs, choices = stria.train_one_episode()\n",
    "        tc, r, locs, choices = cont.train_one_episode()\n",
    "        escape_times[it, ep, 0] = th\n",
    "        escape_times[it, ep, 1] = ts\n",
    "        escape_times[it, ep, 2] = tc"
   ]
  },
  {
   "cell_type": "code",
   "execution_count": null,
   "metadata": {},
   "outputs": [],
   "source": [
    "fig, ax = plt.subplots()\n",
    "tsplot_boot(ax, escape_times[:,:,0])\n",
    "tsplot_boot(ax, escape_times[:,:,1], color='r')\n",
    "tsplot_boot(ax, escape_times[:,:,2], color='g')\n",
    "plt.legend(['Hippocampal lesion', 'Striatal lesion', 'Control'])\n",
    "plt.show()"
   ]
  },
  {
   "cell_type": "code",
   "execution_count": null,
   "metadata": {},
   "outputs": [],
   "source": [
    "plt.figure()\n",
    "cont.hippocampus.plot_value_function()"
   ]
  },
  {
   "cell_type": "markdown",
   "metadata": {},
   "source": [
    "## Distribution of choices from hippocampus and striatum"
   ]
  },
  {
   "cell_type": "code",
   "execution_count": null,
   "metadata": {},
   "outputs": [],
   "source": [
    "# Which brain area do we sample from? \n",
    "from collections import Counter\n",
    "import pandas as pd"
   ]
  },
  {
   "cell_type": "code",
   "execution_count": null,
   "metadata": {},
   "outputs": [],
   "source": [
    "n_agents = 30\n",
    "n_episodes = 15\n",
    "\n",
    "allrand = np.zeros((n_agents, n_episodes))\n",
    "allstriat = np.zeros((n_agents, n_episodes))\n",
    "allhipp = np.zeros((n_agents, n_episodes))\n",
    "\n",
    "for it in tqdm(range(n_agents)):\n",
    "    all_choices = []\n",
    "\n",
    "    ag = Agent()\n",
    "    ag.hippocampus.max_goal_response = 8\n",
    "    for ep in range(n_episodes):\n",
    "        tc, r, locs, choices = ag.train_one_episode()\n",
    "        all_choices.append(choices)\n",
    "\n",
    "    rand = []\n",
    "    striat = []\n",
    "    hipp = []\n",
    "    for ep in all_choices:\n",
    "        counts = Counter(ep)\n",
    "        rand.append(counts['random'])\n",
    "        striat.append(counts['striatum'])\n",
    "        hipp.append(counts['hippocampus'])\n",
    "        \n",
    "    allrand[it] = rand\n",
    "    allstriat[it] = striat\n",
    "    allhipp[it] = hipp"
   ]
  },
  {
   "cell_type": "code",
   "execution_count": null,
   "metadata": {},
   "outputs": [],
   "source": [
    "rand = np.mean(allrand, axis=0)\n",
    "striat = np.mean(allrand, axis=0)\n",
    "hipp = np.mean(allhipp, axis=0)"
   ]
  },
  {
   "cell_type": "code",
   "execution_count": null,
   "metadata": {},
   "outputs": [],
   "source": [
    "rand"
   ]
  },
  {
   "cell_type": "code",
   "execution_count": null,
   "metadata": {},
   "outputs": [],
   "source": [
    "striat"
   ]
  },
  {
   "cell_type": "code",
   "execution_count": null,
   "metadata": {},
   "outputs": [],
   "source": [
    "hipp"
   ]
  },
  {
   "cell_type": "code",
   "execution_count": null,
   "metadata": {},
   "outputs": [],
   "source": [
    "# Data\n",
    "r = np.arange(len(all_choices))\n",
    "raw_data = {'Random': rand, 'Striatum': striat,'Hippocampus': hipp}\n",
    "df = pd.DataFrame(raw_data)\n",
    "\n"
   ]
  },
  {
   "cell_type": "code",
   "execution_count": null,
   "metadata": {},
   "outputs": [],
   "source": [
    "#ag.hippocampus.plot_value_function()"
   ]
  },
  {
   "cell_type": "code",
   "execution_count": null,
   "metadata": {},
   "outputs": [],
   "source": []
  },
  {
   "cell_type": "code",
   "execution_count": null,
   "metadata": {},
   "outputs": [],
   "source": [
    "fig, ax = plt.subplots()\n",
    "# From raw value to percentage\n",
    "totals = [i+j for i,j in zip(df['Striatum'], df['Hippocampus'])]\n",
    "greenBars = [i / j * 100 for i,j in zip(df['Hippocampus'], totals)]\n",
    "orangeBars = [i / j * 100 for i,j in zip(df['Striatum'], totals)]\n",
    " \n",
    "# plot\n",
    "barWidth = 0.85\n",
    "names = r\n",
    "# Create green Bars\n",
    "plt.bar(r, greenBars, color='#b5ffb9', edgecolor='white', width=barWidth)\n",
    "# Create orange Bars\n",
    "plt.bar(r, orangeBars, bottom=greenBars, color='#f9bc86', edgecolor='white', width=barWidth)\n",
    " \n",
    "# Custom x axis\n",
    "plt.xticks(r, names)\n",
    "plt.xlabel(\"Trial\")\n",
    "plt.ylabel('% choices')\n",
    "plt.legend(['Hippocampus', 'Striatum'])\n",
    "plt.title('Frequency of choices')\n",
    "# Show graphic\n",
    "plt.show()\n"
   ]
  },
  {
   "cell_type": "code",
   "execution_count": null,
   "metadata": {},
   "outputs": [],
   "source": []
  },
  {
   "cell_type": "code",
   "execution_count": null,
   "metadata": {},
   "outputs": [],
   "source": []
  }
 ],
 "metadata": {
  "kernelspec": {
   "display_name": "Python 3",
   "language": "python",
   "name": "python3"
  },
  "language_info": {
   "codemirror_mode": {
    "name": "ipython",
    "version": 3
   },
   "file_extension": ".py",
   "mimetype": "text/x-python",
   "name": "python",
   "nbconvert_exporter": "python",
   "pygments_lexer": "ipython3"
  }
 },
 "nbformat": 4,
 "nbformat_minor": 2
}
