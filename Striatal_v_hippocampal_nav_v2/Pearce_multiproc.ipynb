{
 "cells": [
  {
   "cell_type": "code",
   "execution_count": 1,
   "metadata": {},
   "outputs": [],
   "source": [
    "import sys\n",
    "sys.path.append('..')\n",
    "from tqdm import tqdm\n",
    "import numpy as np\n",
    "import matplotlib.pyplot as plt\n",
    "from plotting import tsplot, tsplot_boot,show_landmark_and_platform\n",
    "from tqdm import tqdm_notebook as tqdm\n",
    "import random"
   ]
  },
  {
   "cell_type": "code",
   "execution_count": 2,
   "metadata": {},
   "outputs": [
    {
     "name": "stdout",
     "output_type": "stream",
     "text": [
      "Loaded reward traces from file.\n",
      "Loaded reward traces from file.\n",
      "Loaded reward traces from file.\n"
     ]
    }
   ],
   "source": [
    "from environments import WaterMazeEnv\n",
    "from combined_agent import TDAgent as Agent\n",
    "from datetime import datetime\n",
    "import os \n",
    "from multiprocessing import Pool\n",
    "from functools import partial\n",
    "output_path = 'figures/'"
   ]
  },
  {
   "cell_type": "code",
   "execution_count": 3,
   "metadata": {},
   "outputs": [],
   "source": [
    "def get_platform_and_landmark_locations(env, number=9):\n",
    "    angles = np.linspace(0, 2*np.pi, number)\n",
    "    r = env.maze_radius / 2\n",
    "    platform_locations = [[r * np.cos(a), r * np.sin(a)] for a in angles]\n",
    "    landmark_locations = [[r * np.cos(a), r * np.sin(a)+.1] for a in angles]\n",
    "    platform_locations = env.maze_centre + platform_locations\n",
    "    landmark_locations = env.maze_centre + landmark_locations\n",
    "    return platform_locations, landmark_locations\n",
    "\n",
    "envi = WaterMazeEnv()\n",
    "platform_locations, landmark_locations = get_platform_and_landmark_locations(envi)\n"
   ]
  },
  {
   "cell_type": "code",
   "execution_count": 4,
   "metadata": {},
   "outputs": [],
   "source": [
    "ag = Agent(env=envi,lesion_hippocampus=False)"
   ]
  },
  {
   "cell_type": "code",
   "execution_count": 5,
   "metadata": {},
   "outputs": [],
   "source": [
    "n_simulations = 30\n",
    "n_episodes = 15\n",
    "\n",
    "\n",
    "    \n",
    "def run_one_agent(i, hc_pos=.04, hc_neg=.03, striat=.03, lambd=.67, zeta=3.5):\n",
    "    escape_times = np.zeros(n_episodes)\n",
    "    ag = Agent(env=envi,lesion_striatum=False, lesion_hippocampus=False)\n",
    "    ag.zeta= zeta\n",
    "    ag.hippocampus.learning_rate = hc_pos\n",
    "    ag.hippocampus.negative_learning_rate = hc_neg\n",
    "    ag.striatum.learning_rate = striat\n",
    "    ag.striatum.lamb = lambd\n",
    "    ag.striatum.weight_mat = random_weights[i]\n",
    "    for ep in range(n_episodes):\n",
    "        \n",
    "        if ep == 0: \n",
    "            envi.set_platform_and_landmark(platform_locations[0], landmark_locations[0])\n",
    "\n",
    "        if ep == 7: \n",
    "            envi.set_platform_and_landmark(platform_locations[4], landmark_locations[4])\n",
    "\n",
    "        t, reward, locs, choices = ag.train_one_episode()\n",
    "        escape_times[ep] = t\n",
    "    return escape_times"
   ]
  },
  {
   "cell_type": "code",
   "execution_count": null,
   "metadata": {},
   "outputs": [],
   "source": []
  },
  {
   "cell_type": "code",
   "execution_count": 6,
   "metadata": {},
   "outputs": [],
   "source": [
    "#fig, ax = plt.subplots()\n",
    "#tsplot_boot(ax, np.array(ets))"
   ]
  },
  {
   "cell_type": "code",
   "execution_count": 60,
   "metadata": {},
   "outputs": [],
   "source": [
    "# Do the same thing with multiprocessing\n",
    "\n",
    "\n",
    "# Random weight initialisations\n",
    "\n",
    "def get_random_weights():\n",
    "    w = np.random.rand(ag.striatum.n_action_cells, ag.striatum.n_landmark_cells) * .008\n",
    "    return w\n",
    "\n",
    "random_weights = [get_random_weights() for w in range(n_simulations)]"
   ]
  },
  {
   "cell_type": "code",
   "execution_count": 8,
   "metadata": {},
   "outputs": [],
   "source": [
    "p = Pool(30)"
   ]
  },
  {
   "cell_type": "code",
   "execution_count": 9,
   "metadata": {},
   "outputs": [],
   "source": [
    "results = np.array(p.map(run_one_agent, list(range(n_simulations))))"
   ]
  },
  {
   "cell_type": "code",
   "execution_count": 11,
   "metadata": {},
   "outputs": [
    {
     "data": {
      "text/plain": [
       "(0, 1200)"
      ]
     },
     "execution_count": 11,
     "metadata": {},
     "output_type": "execute_result"
    },
    {
     "data": {
      "image/png": "[encoded data removed]",
      "text/plain": [
       "<Figure size 432x288 with 1 Axes>"
      ]
     },
     "metadata": {
      "needs_background": "light"
     },
     "output_type": "display_data"
    }
   ],
   "source": [
    "fig, ax = plt.subplots()\n",
    "tsplot_boot(ax, np.array(results))\n",
    "plt.ylim([0,1200])"
   ]
  },
  {
   "cell_type": "code",
   "execution_count": null,
   "metadata": {},
   "outputs": [],
   "source": []
  },
  {
   "cell_type": "code",
   "execution_count": null,
   "metadata": {},
   "outputs": [],
   "source": [
    "# Pearce task"
   ]
  },
  {
   "cell_type": "code",
   "execution_count": 12,
   "metadata": {},
   "outputs": [],
   "source": [
    "n_sims = 30\n",
    "n_trials = 4\n",
    "n_sessions = 12\n",
    "\n",
    "escape_times = np.zeros((n_sims, n_sessions, n_trials))\n",
    "session_ids = list(range(len(platform_locations)))\n",
    "sessions = [np.random.choice(session_ids) for _ in range(n_sessions)]\n",
    "\n",
    "sessions = [0, 4, 1, 5, 2, 6, 3, 7, 4, 8, 3, 0]\n",
    "\n",
    "first_trials_control_trajectory=[]\n",
    "\n"
   ]
  },
  {
   "cell_type": "code",
   "execution_count": 13,
   "metadata": {},
   "outputs": [],
   "source": [
    "def run_pearce_task(i, hc_pos=.04, hc_neg=.03, striat=.03, lambd=.67, zeta=3.5, epsilon=.13, lesion_hippocampus=False):\n",
    "    escape_times = np.zeros((n_sessions, n_trials))\n",
    "    \n",
    "    ag = Agent(env=envi, lesion_striatum=False, lesion_hippocampus=lesion_hippocampus)\n",
    "    ag.zeta= zeta\n",
    "    ag.hippocampus.learning_rate = hc_pos\n",
    "    ag.hippocampus.negative_learning_rate = hc_neg\n",
    "    ag.striatum.learning_rate = striat\n",
    "    ag.striatum.lamb = lambd\n",
    "    ag.striatum.weight_mat = random_weights[i]\n",
    "    ag.epsilon=epsilon\n",
    "    \n",
    "    for sess_n, session in enumerate(sessions):\n",
    "        envi.set_platform_and_landmark(platform_locations[session], landmark_locations[session])\n",
    "        for trial in range(n_trials):\n",
    "            t, reward, locs, choices = ag.train_one_episode()\n",
    "            if trial == 0:\n",
    "                first_trials_control_trajectory.append(locs)\n",
    "            escape_times[sess_n, trial] = t\n",
    "    return escape_times\n"
   ]
  },
  {
   "cell_type": "code",
   "execution_count": 54,
   "metadata": {},
   "outputs": [],
   "source": [
    "p = Pool(30)\n"
   ]
  },
  {
   "cell_type": "code",
   "execution_count": 91,
   "metadata": {},
   "outputs": [],
   "source": [
    "zeta = .9  # Higher is more striatum choices\n",
    "hc_pos = .07\n",
    "hc_neg = .2\n",
    "striat = .003\n",
    "lambd = .67\n",
    "epsilon = .13\n",
    "\n",
    "results_nolesion = p.map(partial(run_pearce_task, \n",
    "                                 zeta=zeta, \n",
    "                                 hc_pos=hc_pos, \n",
    "                                 hc_neg=hc_neg,\n",
    "                                 striat=striat,\n",
    "                                 lambd=lambd,\n",
    "                                 epsilon=epsilon), list(range(n_sims)))"
   ]
  },
  {
   "cell_type": "code",
   "execution_count": 92,
   "metadata": {},
   "outputs": [],
   "source": [
    "results_lesion = p.map(partial(run_pearce_task, \n",
    "                               lesion_hippocampus=True,\n",
    "                                 zeta=zeta, \n",
    "                                 hc_pos=hc_pos, \n",
    "                                 hc_neg=hc_neg,\n",
    "                                 striat=striat,\n",
    "                                 lambd=lambd,\n",
    "                                 epsilon=epsilon), list(range(n_sims)))"
   ]
  },
  {
   "cell_type": "code",
   "execution_count": 93,
   "metadata": {},
   "outputs": [],
   "source": [
    "escape_times = np.array(results_nolesion)\n",
    "escape_times_lesion = np.array(results_lesion)"
   ]
  },
  {
   "cell_type": "code",
   "execution_count": 94,
   "metadata": {},
   "outputs": [],
   "source": [
    "time_step = 1\n",
    "\n",
    "first_trials = escape_times[:,:,0].mean(axis=0) * time_step\n",
    "fourth_trials = escape_times[:,:,1].mean(axis=0)* time_step\n",
    "\n",
    "first_trials_lesion = escape_times_lesion[:,:,0].mean(axis=0) * time_step\n",
    "fourth_trials_lesion = escape_times_lesion[:,:,1].mean(axis=0) * time_step\n"
   ]
  },
  {
   "cell_type": "code",
   "execution_count": 95,
   "metadata": {},
   "outputs": [
    {
     "data": {
      "image/png": "[encoded data removed]",
      "text/plain": [
       "<Figure size 360x360 with 1 Axes>"
      ]
     },
     "metadata": {
      "needs_background": "light"
     },
     "output_type": "display_data"
    }
   ],
   "source": [
    "fig, ax = plt.subplots(figsize=(5,5))\n",
    "red = '#f9868a'\n",
    "blue = '#86c3f9'\n",
    "\n",
    "\n",
    "plt.plot(np.arange(1,12), first_trials_lesion[:-1], 'o-', color=red)\n",
    "plt.plot(np.arange(1,12), first_trials[:-1], 'o-', fillstyle='none', color=blue)\n",
    "plt.plot(np.arange(1,12), fourth_trials_lesion[:-1], 'o--', color=red)\n",
    "plt.plot(np.arange(1,12), fourth_trials[:-1], 'o--', fillstyle='none', color=blue)\n",
    "\n",
    "# Hide the right and top spines\n",
    "ax.spines['right'].set_visible(False)\n",
    "ax.spines['top'].set_visible(False)\n",
    "\n",
    "#plt.ylim([0,122])\n",
    "plt.ylabel('Escape latency (s)', fontsize=15)\n",
    "plt.xlabel('Session', fontsize=15)\n",
    "\n",
    "plt.legend(['Hippocampal lesion - trial 1', 'Control - trial 1', \n",
    "            'Hippocampal lesion - trial 4', 'Control - trial 4'], fontsize=12)\n",
    "\n",
    "plt.xticks(np.arange(0, 12))\n",
    "\n",
    "if not os.path.isdir(output_path):\n",
    "    os.makedirs(output_path)\n",
    "\n",
    "plt.savefig(os.path.join(output_path,'PearceModel-ClearLegend.svg'))\n",
    "\n",
    "plt.show()"
   ]
  },
  {
   "cell_type": "code",
   "execution_count": null,
   "metadata": {},
   "outputs": [],
   "source": []
  },
  {
   "cell_type": "code",
   "execution_count": 30,
   "metadata": {},
   "outputs": [],
   "source": [
    "zeta = 1.3  # Higher is more striatum choices\n",
    "hc_pos = .2\n",
    "hc_neg = .1\n",
    "striat = .03\n",
    "lambd = .67\n",
    "epsilon = .13\n"
   ]
  },
  {
   "cell_type": "code",
   "execution_count": 31,
   "metadata": {},
   "outputs": [],
   "source": [
    "zetas = np.linspace(.5, 3, 10)\n",
    "hc_plus = np.linspace(.5, 3, 10)"
   ]
  },
  {
   "cell_type": "code",
   "execution_count": 32,
   "metadata": {},
   "outputs": [],
   "source": [
    "params_grid = {}\n",
    "params_grid['zetas'] = np.linspace(.5, 3, 10)\n",
    "params_grid['hc_pos'] = np.linspace(.01, .3, 10)\n",
    "params_grid['hc_neg'] = np.linspace(.01, .3, 10)\n",
    "params_grid['striat'] = np.linspace(.01, .3, 10)\n",
    "params_grid['lambda'] = np.linspace(.5, 8, 5)\n",
    "params_grid['epsilon'] = np.linspace(.05, .15, 3)"
   ]
  },
  {
   "cell_type": "code",
   "execution_count": null,
   "metadata": {},
   "outputs": [],
   "source": [
    "for zeta in params_grid['zetas']:\n",
    "    for hc_pos in params_grid['hc_pos']:\n",
    "        for hc_neg in params_grid['hc_neg']:\n",
    "            for striat in params_grid['striat']:\n",
    "                for lambd in params_grid['lambda']:\n",
    "                    for epsilon in params_grid['epsilon']:\n",
    "                        "
   ]
  },
  {
   "cell_type": "code",
   "execution_count": null,
   "metadata": {},
   "outputs": [],
   "source": []
  },
  {
   "cell_type": "code",
   "execution_count": null,
   "metadata": {},
   "outputs": [],
   "source": []
  },
  {
   "cell_type": "code",
   "execution_count": null,
   "metadata": {},
   "outputs": [],
   "source": []
  }
 ],
 "metadata": {
  "kernelspec": {
   "display_name": "Python 3",
   "language": "python",
   "name": "python3"
  },
  "language_info": {
   "codemirror_mode": {
    "name": "ipython",
    "version": 3
   },
   "file_extension": ".py",
   "mimetype": "text/x-python",
   "name": "python",
   "nbconvert_exporter": "python",
   "pygments_lexer": "ipython3",
   "version": "3.7.0"
  }
 },
 "nbformat": 4,
 "nbformat_minor": 2
}
