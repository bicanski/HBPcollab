{
 "cells": [
  {
   "cell_type": "code",
   "execution_count": null,
   "metadata": {},
   "outputs": [],
   "source": [
    "import sys\n",
    "sys.path.append('..')\n",
    "from tqdm import tqdm\n",
    "import numpy as np\n",
    "import matplotlib.pyplot as plt\n",
    "from plotting import tsplot, tsplot_boot\n",
    "\n"
   ]
  },
  {
   "cell_type": "code",
   "execution_count": null,
   "metadata": {
    "collapsed": true
   },
   "outputs": [],
   "source": [
    "from hippocampus_watermaze import HippocampalAgent\n",
    "from striatum_blocking_model import Agent"
   ]
  },
  {
   "cell_type": "code",
   "execution_count": null,
   "metadata": {
    "collapsed": true
   },
   "outputs": [],
   "source": [
    "n_trials=60\n",
    "n_simulations = 1"
   ]
  },
  {
   "cell_type": "code",
   "execution_count": null,
   "metadata": {},
   "outputs": [],
   "source": [
    "list_of_escape_times = []\n",
    "for num in tqdm(range(n_simulations)):\n",
    "    # Gaussian RFs\n",
    "    sa = Agent(n_trials=n_trials)\n",
    "    sa.run_blocking_experiment()\n",
    "    list_of_escape_times.append(sa.escape_times)"
   ]
  },
  {
   "cell_type": "code",
   "execution_count": null,
   "metadata": {
    "collapsed": true
   },
   "outputs": [],
   "source": [
    "ar_striatum = np.array(list_of_escape_times) * sa.time_bin"
   ]
  },
  {
   "cell_type": "code",
   "execution_count": null,
   "metadata": {
    "collapsed": true
   },
   "outputs": [],
   "source": [
    "ar_striatum"
   ]
  },
  {
   "cell_type": "code",
   "execution_count": null,
   "metadata": {
    "collapsed": true
   },
   "outputs": [],
   "source": [
    "fig, ax = plt.subplots()\n",
    "tsplot_boot(ax, ar_striatum)\n",
    "\n",
    "ax.axhline(y=105, xmin=0, xmax=.66667, color='r', alpha=.5, LineWidth=4)\n",
    "ax.axhline(y=100, xmin=.33333, xmax=1, color='g', alpha=.5, LineWidth=4)\n",
    "ax.text(1,108,'Landmark 1', fontsize=20)\n",
    "ax.text(48,103,'Landmark 2', fontsize=20)\n",
    "plt.ylim([0,115])\n",
    "plt.ylabel('Escape time (s)')\n",
    "plt.xlabel('Trials')\n",
    "filename = '../figs/blocking_effect_160218.png'\n",
    "#plt.savefig(filename)\n",
    "plt.show()"
   ]
  },
  {
   "cell_type": "code",
   "execution_count": null,
   "metadata": {
    "collapsed": true
   },
   "outputs": [],
   "source": [
    "# Now the hippocampal system "
   ]
  },
  {
   "cell_type": "code",
   "execution_count": null,
   "metadata": {
    "collapsed": true
   },
   "outputs": [],
   "source": [
    "list_of_escape_times = []\n",
    "for num in tqdm(range(n_simulations)):\n",
    "    # Gaussian RFs\n",
    "    aca = HippocampalAgent(n_trials=n_trials+1)\n",
    "    aca.run_simulation()\n",
    "    escape_times = [aca.position_log[aca.position_log['Trial'] == i].shape[0] for i in range(aca.n_trials)]\n",
    "    list_of_escape_times.append(escape_times[1:])\n",
    "    aca.env.trial = 0"
   ]
  },
  {
   "cell_type": "code",
   "execution_count": null,
   "metadata": {
    "collapsed": true
   },
   "outputs": [],
   "source": [
    "ar_hpc = np.array(list_of_escape_times) *aca.env.time_bin"
   ]
  },
  {
   "cell_type": "code",
   "execution_count": null,
   "metadata": {
    "collapsed": true
   },
   "outputs": [],
   "source": [
    "fig, ax = plt.subplots()\n",
    "tsplot_boot(ax, ar_hpc)\n",
    "\n",
    "plt.show()"
   ]
  },
  {
   "cell_type": "code",
   "execution_count": null,
   "metadata": {
    "collapsed": true
   },
   "outputs": [],
   "source": [
    "import matplotlib\n",
    "matplotlib.style.use('seaborn-poster')\n",
    "font = {'family' : 'normal',\n",
    "        'weight' : 'normal',\n",
    "        'size'   : 35}\n",
    "\n",
    "matplotlib.rc('font', **font)"
   ]
  },
  {
   "cell_type": "code",
   "execution_count": null,
   "metadata": {
    "collapsed": true
   },
   "outputs": [],
   "source": [
    "\n",
    "fig, [ax1, ax2] = plt.subplots(1,2,sharey=True)\n",
    "\n",
    "\n",
    "plt.sca(ax1)\n",
    "plt.ylabel('Escape time (s)')\n",
    "plt.xlabel('Trial')\n",
    "\n",
    "ax1.axhline(y=85, xmin=0, xmax=.66667, color='y', alpha=.5, LineWidth=4)\n",
    "ax1.axhline(y=80, xmin=.33333, xmax=1, color='b', alpha=.5, LineWidth=4)\n",
    "ax1.text(1,86,'Cue 1', fontsize=25)\n",
    "ax1.text(40,81,'Cue 2', fontsize=25)\n",
    "\n",
    "tsplot_boot(ax1, ar_hpc, color='red')\n",
    "\n",
    "for ax in [ax1, ax2]:\n",
    "    for item in ([ax.title, ax.xaxis.label, ax.yaxis.label] +\n",
    "                 ax.get_xticklabels() + ax.get_yticklabels()):\n",
    "        item.set_fontsize(35)\n",
    "\n",
    "\n",
    "\n",
    "plt.sca(ax2)\n",
    "plt.xlabel('Trial')\n",
    "\n",
    "tsplot_boot(ax2, ar_striatum, color='green')\n",
    "\n",
    "\n",
    "ax2.axhline(y=85, xmin=0, xmax=.66667, color='y', alpha=.5, LineWidth=4)\n",
    "ax2.axhline(y=80, xmin=.33333, xmax=1, color='b', alpha=.5, LineWidth=4)\n",
    "ax2.text(1,86,'Cue 1', fontsize=25)\n",
    "ax2.text(40,81,'Cue 1', fontsize=25)\n",
    "\n",
    "plt.tight_layout()\n",
    "\n",
    "plt.savefig('blocking_illustration.png')\n",
    "plt.show()"
   ]
  },
  {
   "cell_type": "code",
   "execution_count": null,
   "metadata": {
    "collapsed": true
   },
   "outputs": [],
   "source": [
    "matplotlib.style.available"
   ]
  },
  {
   "cell_type": "code",
   "execution_count": null,
   "metadata": {
    "collapsed": true
   },
   "outputs": [],
   "source": [
    "matplotlib.style.use('seaborn-white')\n",
    "%matplotlib notebook"
   ]
  },
  {
   "cell_type": "markdown",
   "metadata": {},
   "source": []
  },
  {
   "cell_type": "code",
   "execution_count": null,
   "metadata": {
    "collapsed": true
   },
   "outputs": [],
   "source": [
    "import plotting as pl\n",
    "fig, axs = plot_trace(sa, [0, 7, 10])\n",
    "\n",
    "fig.set_figheight(2.5)\n",
    "plt.savefig('trajectories.png')\n",
    "plt.show()"
   ]
  },
  {
   "cell_type": "code",
   "execution_count": null,
   "metadata": {
    "collapsed": true
   },
   "outputs": [],
   "source": [
    "help(pl.plot_trace)"
   ]
  },
  {
   "cell_type": "code",
   "execution_count": null,
   "metadata": {
    "collapsed": true
   },
   "outputs": [],
   "source": [
    "def plot_trace(agent, trials_to_plot=None):\n",
    "    \"\"\"Plot the swimming trajectory in the maze.\n",
    "    \"\"\"\n",
    "    if not trials_to_plot:\n",
    "        trials_to_plot = [1, int(agent.n_trials/2)+1, agent.n_trials]\n",
    "\n",
    "    n_rows = int(math.ceil(len(trials_to_plot)/5))\n",
    "    n_cols = int(math.ceil(len(trials_to_plot)/n_rows))\n",
    "    fig, axs = plt.subplots(n_rows, n_cols, sharex='row', sharey='row')\n",
    "    angles = np.linspace(0, 2 * np.pi, 100)\n",
    "\n",
    "    x_marks = np.cos(angles) * agent.maze_radius + agent.maze_centre[0]\n",
    "    y_marks = np.sin(angles) * agent.maze_radius + agent.maze_centre[1]\n",
    "\n",
    "    axs = axs.ravel()\n",
    "\n",
    "    for i, trial in enumerate(trials_to_plot):\n",
    "        axs[i].plot(x_marks, y_marks)  # Draw the boundary of the circular maze\n",
    "        trial_trajectory = agent.position_log[agent.position_log['Trial'] == trial]\n",
    "        axs[i].plot(trial_trajectory['X position'], trial_trajectory['Y position'])\n",
    "        axs[i].axis('equal')  # enforces equal axis sizes\n",
    "        axs[i].set_title('Trial {}'.format(trial))\n",
    "\n",
    "        platform = plt.Circle(agent.platform_centre, agent.platform_radius, color='g')\n",
    "        axs[i].add_artist(platform)\n",
    "\n",
    "        landmark1 = plt.Circle(agent.landmark_1_centre, agent.landmark_1_radius, color='r')\n",
    "        axs[i].add_artist(landmark1)\n",
    "        landmark2 = plt.Circle(agent.landmark_2_centre, agent.landmark_1_radius, color='y')\n",
    "        axs[i].add_artist(landmark2)\n",
    "\n",
    "        plt.xlim((agent.minx, agent.maxx))\n",
    "        plt.ylim((agent.miny, agent.maxy))\n",
    "        axs[i].tick_params(axis='both', which='both', bottom='off', top='off', labelbottom='off')\n",
    "    return fig, axs\n"
   ]
  },
  {
   "cell_type": "code",
   "execution_count": null,
   "metadata": {
    "collapsed": true
   },
   "outputs": [],
   "source": [
    "import math"
   ]
  },
  {
   "cell_type": "code",
   "execution_count": null,
   "metadata": {
    "collapsed": true
   },
   "outputs": [],
   "source": []
  },
  {
   "cell_type": "code",
   "execution_count": null,
   "metadata": {
    "collapsed": true
   },
   "outputs": [],
   "source": []
  }
 ],
 "metadata": {
  "kernelspec": {
   "display_name": "Python 3",
   "language": "python",
   "name": "python3"
  },
  "language_info": {
   "codemirror_mode": {
    "name": "ipython",
    "version": 3
   },
   "file_extension": ".py",
   "mimetype": "text/x-python",
   "name": "python",
   "nbconvert_exporter": "python",
   "pygments_lexer": "ipython3",
   "version": "3.6.1"
  }
 },
 "nbformat": 4,
 "nbformat_minor": 2
}
